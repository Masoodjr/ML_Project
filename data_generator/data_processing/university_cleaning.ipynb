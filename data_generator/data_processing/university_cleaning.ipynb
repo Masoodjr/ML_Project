{
 "cells": [
  {
   "cell_type": "code",
   "execution_count": null,
   "id": "a4b1b72d",
   "metadata": {},
   "outputs": [],
   "source": [
    "def clean_universities(df):\n",
    "    # Document original stats\n",
    "    original_stats = {\n",
    "        'rows': len(df),\n",
    "        'missing_values': df.isnull().sum().to_dict()\n",
    "    }\n",
    "    \n",
    "    # 1. Handle missing data - no missing expected in this table\n",
    "    # 2. Remove duplicates\n",
    "    df = df.drop_duplicates(subset=['university_name'])\n",
    "    \n",
    "    # 3. Fix structural errors\n",
    "    # Ensure university names are properly capitalized\n",
    "    df['university_name'] = df['university_name'].str.title()\n",
    "    \n",
    "    # 4. Handle outliers - none expected in this table\n",
    "    # 5. Standardize data\n",
    "    # Standardize location format (City, ST)\n",
    "    df['location'] = df['location'].str.replace(r',\\s+', ', ', regex=True)\n",
    "    \n",
    "    # 6. Validate data integrity\n",
    "    # Check tier values are valid\n",
    "    valid_tiers = ['Top', 'Mid', 'Low']\n",
    "    df = df[df['tier'].isin(valid_tiers)]\n",
    "    \n",
    "    # Check numeric ranges\n",
    "    df = df[(df['avg_alumni_salary'] >= 20000) & (df['avg_alumni_salary'] <= 200000)]\n",
    "    df = df[(df['placement_rate'] >= 0) & (df['placement_rate'] <= 100)]\n",
    "    df = df[(df['value_score'] >= 0) & (df['value_score'] <= 10)]\n",
    "    \n",
    "    # Document cleaning results\n",
    "    cleaned_stats = {\n",
    "        'rows_after_cleaning': len(df),\n",
    "        'duplicates_removed': original_stats['rows'] - len(df)\n",
    "    }\n",
    "    \n",
    "    return df, {'original': original_stats, 'cleaned': cleaned_stats}\n",
    "\n",
    "cleaned_universities, uni_stats = clean_universities(universities)"
   ]
  }
 ],
 "metadata": {
  "language_info": {
   "name": "python"
  }
 },
 "nbformat": 4,
 "nbformat_minor": 5
}
