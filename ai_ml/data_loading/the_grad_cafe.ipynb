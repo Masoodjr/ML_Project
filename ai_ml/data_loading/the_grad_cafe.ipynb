{
 "cells": [
  {
   "cell_type": "code",
   "execution_count": 11,
   "id": "0efbf575",
   "metadata": {},
   "outputs": [],
   "source": [
    "import pandas as pd"
   ]
  },
  {
   "cell_type": "code",
   "execution_count": 12,
   "id": "d8a4a376",
   "metadata": {},
   "outputs": [],
   "source": [
    "df = pd.read_excel(\"/Users/whoseunassailable/Documents/coding_projects/college_projects/ML_Project/data/scraped_profiles.xlsx\")"
   ]
  },
  {
   "cell_type": "code",
   "execution_count": 13,
   "id": "3f8eb6a1",
   "metadata": {},
   "outputs": [
    {
     "data": {
      "text/plain": [
       "(62573, 17)"
      ]
     },
     "execution_count": 13,
     "metadata": {},
     "output_type": "execute_result"
    }
   ],
   "source": [
    "df.shape"
   ]
  },
  {
   "cell_type": "code",
   "execution_count": 14,
   "id": "1c46bd28",
   "metadata": {},
   "outputs": [
    {
     "data": {
      "text/plain": [
       "Index(['ID', 'Acceptance Rate', 'Institution', 'Program', 'Degree Type',\n",
       "       'Degree's Country of Origin', 'Decision', 'Notification Date',\n",
       "       'Notification Method', 'Undergrad GPA', 'GRE General', 'GRE Verbal',\n",
       "       'Analytical Writing', 'Notes', 'Timeline Event', 'Timeline Date',\n",
       "       'Scraped Timestamp'],\n",
       "      dtype='object')"
      ]
     },
     "execution_count": 14,
     "metadata": {},
     "output_type": "execute_result"
    }
   ],
   "source": [
    "df.columns"
   ]
  },
  {
   "cell_type": "code",
   "execution_count": 15,
   "id": "7a0de19d",
   "metadata": {},
   "outputs": [],
   "source": [
    "df = df.rename(columns={\n",
    "    \"ID\": \"id\",\n",
    "    \"Acceptance Rate\": \"acceptance_rate\",\n",
    "    \"Institution\": \"institution\",\n",
    "    \"Program\": \"program\",\n",
    "    \"Degree Type\": \"degree_type\",\n",
    "    \"Degree's Country of Origin\": \"degree_origin_country\",\n",
    "    \"Decision\": \"decision\",\n",
    "    \"Notification Date\": \"notification_date\",\n",
    "    \"Notification Method\": \"notification_method\",\n",
    "    \"Undergrad GPA\": \"undergrad_gpa\",\n",
    "    \"GRE General\": \"gre_general\",\n",
    "    \"GRE Verbal\": \"gre_verbal\",\n",
    "    \"Analytical Writing\": \"analytical_writing\",\n",
    "    \"Notes\": \"notes\",\n",
    "    \"Timeline Event\": \"timeline_event\",\n",
    "    \"Timeline Date\": \"timeline_date\",\n",
    "    \"Scraped Timestamp\": \"scraped_timestamp\"\n",
    "})\n"
   ]
  },
  {
   "cell_type": "code",
   "execution_count": 16,
   "id": "d14c1273",
   "metadata": {},
   "outputs": [
    {
     "data": {
      "text/plain": [
       "Index(['id', 'acceptance_rate', 'institution', 'program', 'degree_type',\n",
       "       'degree_origin_country', 'decision', 'notification_date',\n",
       "       'notification_method', 'undergrad_gpa', 'gre_general', 'gre_verbal',\n",
       "       'analytical_writing', 'notes', 'timeline_event', 'timeline_date',\n",
       "       'scraped_timestamp'],\n",
       "      dtype='object')"
      ]
     },
     "execution_count": 16,
     "metadata": {},
     "output_type": "execute_result"
    }
   ],
   "source": [
    "df.columns"
   ]
  },
  {
   "cell_type": "code",
   "execution_count": 17,
   "id": "184f40bc",
   "metadata": {},
   "outputs": [],
   "source": [
    "drop_columns = [\"degree_origin_country\", \"notification_date\", \"notification_method\", \"timeline_event\", \"timeline_date\", \"scraped_timestamp\"]"
   ]
  },
  {
   "cell_type": "code",
   "execution_count": 18,
   "id": "1e17eb7f",
   "metadata": {},
   "outputs": [],
   "source": [
    "df = df.drop(columns=drop_columns)"
   ]
  },
  {
   "cell_type": "code",
   "execution_count": 19,
   "id": "cc1b264f",
   "metadata": {},
   "outputs": [
    {
     "data": {
      "text/plain": [
       "Index(['id', 'acceptance_rate', 'institution', 'program', 'degree_type',\n",
       "       'decision', 'undergrad_gpa', 'gre_general', 'gre_verbal',\n",
       "       'analytical_writing', 'notes'],\n",
       "      dtype='object')"
      ]
     },
     "execution_count": 19,
     "metadata": {},
     "output_type": "execute_result"
    }
   ],
   "source": [
    "df.columns"
   ]
  },
  {
   "cell_type": "markdown",
   "id": "e19bf97b",
   "metadata": {},
   "source": [
    "### Add a new gre total column"
   ]
  },
  {
   "cell_type": "code",
   "execution_count": 20,
   "id": "8d367bb0",
   "metadata": {},
   "outputs": [],
   "source": [
    "df['gre_total'] = df['gre_general'] + df['gre_verbal']"
   ]
  },
  {
   "cell_type": "code",
   "execution_count": 22,
   "id": "6a4b9670",
   "metadata": {},
   "outputs": [
    {
     "data": {
      "text/html": [
       "<div>\n",
       "<style scoped>\n",
       "    .dataframe tbody tr th:only-of-type {\n",
       "        vertical-align: middle;\n",
       "    }\n",
       "\n",
       "    .dataframe tbody tr th {\n",
       "        vertical-align: top;\n",
       "    }\n",
       "\n",
       "    .dataframe thead th {\n",
       "        text-align: right;\n",
       "    }\n",
       "</style>\n",
       "<table border=\"1\" class=\"dataframe\">\n",
       "  <thead>\n",
       "    <tr style=\"text-align: right;\">\n",
       "      <th></th>\n",
       "      <th>id</th>\n",
       "      <th>acceptance_rate</th>\n",
       "      <th>institution</th>\n",
       "      <th>program</th>\n",
       "      <th>degree_type</th>\n",
       "      <th>decision</th>\n",
       "      <th>undergrad_gpa</th>\n",
       "      <th>gre_general</th>\n",
       "      <th>gre_verbal</th>\n",
       "      <th>analytical_writing</th>\n",
       "      <th>notes</th>\n",
       "      <th>gre_total</th>\n",
       "    </tr>\n",
       "  </thead>\n",
       "  <tbody>\n",
       "    <tr>\n",
       "      <th>count</th>\n",
       "      <td>62561</td>\n",
       "      <td>61487</td>\n",
       "      <td>62561</td>\n",
       "      <td>62518</td>\n",
       "      <td>62561</td>\n",
       "      <td>62561</td>\n",
       "      <td>33005</td>\n",
       "      <td>6955</td>\n",
       "      <td>6094</td>\n",
       "      <td>5655</td>\n",
       "      <td>32319</td>\n",
       "      <td>5966</td>\n",
       "    </tr>\n",
       "    <tr>\n",
       "      <th>unique</th>\n",
       "      <td>62238</td>\n",
       "      <td>169</td>\n",
       "      <td>1597</td>\n",
       "      <td>4979</td>\n",
       "      <td>10</td>\n",
       "      <td>8</td>\n",
       "      <td>304</td>\n",
       "      <td>128</td>\n",
       "      <td>69</td>\n",
       "      <td>89</td>\n",
       "      <td>29372</td>\n",
       "      <td>164</td>\n",
       "    </tr>\n",
       "    <tr>\n",
       "      <th>top</th>\n",
       "      <td>985544</td>\n",
       "      <td>40%</td>\n",
       "      <td>University of California</td>\n",
       "      <td>Computer Science</td>\n",
       "      <td>PhD</td>\n",
       "      <td>Rejected</td>\n",
       "      <td>4</td>\n",
       "      <td>170</td>\n",
       "      <td>162</td>\n",
       "      <td>4</td>\n",
       "      <td>Email to check portal</td>\n",
       "      <td>329</td>\n",
       "    </tr>\n",
       "    <tr>\n",
       "      <th>freq</th>\n",
       "      <td>12</td>\n",
       "      <td>3767</td>\n",
       "      <td>2582</td>\n",
       "      <td>4095</td>\n",
       "      <td>43664</td>\n",
       "      <td>24204</td>\n",
       "      <td>4183</td>\n",
       "      <td>1292</td>\n",
       "      <td>437</td>\n",
       "      <td>1619</td>\n",
       "      <td>178</td>\n",
       "      <td>255</td>\n",
       "    </tr>\n",
       "  </tbody>\n",
       "</table>\n",
       "</div>"
      ],
      "text/plain": [
       "            id acceptance_rate               institution           program  \\\n",
       "count    62561           61487                     62561             62518   \n",
       "unique   62238             169                      1597              4979   \n",
       "top     985544             40%  University of California  Computer Science   \n",
       "freq        12            3767                      2582              4095   \n",
       "\n",
       "       degree_type  decision  undergrad_gpa  gre_general  gre_verbal  \\\n",
       "count        62561     62561          33005         6955        6094   \n",
       "unique          10         8            304          128          69   \n",
       "top            PhD  Rejected              4          170         162   \n",
       "freq         43664     24204           4183         1292         437   \n",
       "\n",
       "        analytical_writing                  notes  gre_total  \n",
       "count                 5655                  32319       5966  \n",
       "unique                  89                  29372        164  \n",
       "top                      4  Email to check portal        329  \n",
       "freq                  1619                    178        255  "
      ]
     },
     "execution_count": 22,
     "metadata": {},
     "output_type": "execute_result"
    }
   ],
   "source": [
    "df.describe()"
   ]
  },
  {
   "cell_type": "code",
   "execution_count": null,
   "id": "38250588",
   "metadata": {},
   "outputs": [],
   "source": []
  }
 ],
 "metadata": {
  "kernelspec": {
   "display_name": "base",
   "language": "python",
   "name": "python3"
  },
  "language_info": {
   "codemirror_mode": {
    "name": "ipython",
    "version": 3
   },
   "file_extension": ".py",
   "mimetype": "text/x-python",
   "name": "python",
   "nbconvert_exporter": "python",
   "pygments_lexer": "ipython3",
   "version": "3.12.7"
  }
 },
 "nbformat": 4,
 "nbformat_minor": 5
}
