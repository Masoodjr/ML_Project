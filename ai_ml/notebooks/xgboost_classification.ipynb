{
 "cells": [
  {
   "cell_type": "code",
   "execution_count": 22,
   "id": "11960e97",
   "metadata": {},
   "outputs": [],
   "source": [
    "from xgboost import XGBClassifier\n",
    "from sklearn.model_selection import train_test_split\n",
    "from sklearn.metrics import accuracy_score, classification_report, confusion_matrix\n",
    "from imblearn.over_sampling import SMOTE\n",
    "import pandas as pd"
   ]
  },
  {
   "cell_type": "code",
   "execution_count": 23,
   "id": "1b1c0729",
   "metadata": {},
   "outputs": [],
   "source": [
    "df = pd.read_excel(\"../data/processed/exploratory_analysis_final.xlsx\")"
   ]
  },
  {
   "cell_type": "code",
   "execution_count": 24,
   "id": "b283a768",
   "metadata": {},
   "outputs": [],
   "source": [
    "# Replace missing QS rank with a low prestige value (e.g., rank 1200)\n",
    "df['qs_rank'] = df['qs_rank'].fillna(1200)\n",
    "df['qs_rank_score'] = -df['qs_rank']"
   ]
  },
  {
   "cell_type": "code",
   "execution_count": 25,
   "id": "7825e3e1",
   "metadata": {},
   "outputs": [],
   "source": [
    "# === Final Feature List ===\n",
    "feature_cols = [\n",
    "    'acceptance_rate',\n",
    "    'undergrad_gpa',\n",
    "    'gre_quantitative_reasoning',\n",
    "    'gre_verbal_reasoning',\n",
    "    'analytical_writing',\n",
    "    'gre_total',\n",
    "    'gpa_percentile',\n",
    "    'gre_avg',\n",
    "    'gpa_x_acceptancerate',\n",
    "    'application_strength',\n",
    "    'qs_rank',\n",
    "    'qs_rank_score',\n",
    "    'qs_tier',\n",
    "    'tier_score',\n",
    "    'program',\n",
    "    'degree_type',\n",
    "    'institution'\n",
    "]\n"
   ]
  },
  {
   "cell_type": "code",
   "execution_count": 26,
   "id": "fa158788",
   "metadata": {},
   "outputs": [
    {
     "name": "stderr",
     "output_type": "stream",
     "text": [
      "/opt/anaconda3/lib/python3.12/site-packages/xgboost/core.py:158: UserWarning: [22:48:49] WARNING: /Users/runner/work/xgboost/xgboost/src/learner.cc:740: \n",
      "Parameters: { \"use_label_encoder\" } are not used.\n",
      "\n",
      "  warnings.warn(smsg, UserWarning)\n"
     ]
    },
    {
     "name": "stdout",
     "output_type": "stream",
     "text": [
      "Accuracy: 0.5337639751552795\n",
      "Classification Report:\n",
      "               precision    recall  f1-score   support\n",
      "\n",
      "           0       0.59      0.59      0.59      7440\n",
      "           1       0.53      0.56      0.54      7095\n",
      "           2       0.46      0.42      0.44      5590\n",
      "\n",
      "    accuracy                           0.53     20125\n",
      "   macro avg       0.53      0.52      0.53     20125\n",
      "weighted avg       0.53      0.53      0.53     20125\n",
      "\n",
      "Confusion Matrix:\n",
      " [[4387 1740 1313]\n",
      " [1698 4000 1397]\n",
      " [1368 1867 2355]]\n"
     ]
    }
   ],
   "source": [
    "X = df[feature_cols]\n",
    "y = df['decision_grouped']\n",
    "\n",
    "X_train, X_test, y_train, y_test = train_test_split(X, y, test_size=0.2, random_state=42)\n",
    "\n",
    "smote = SMOTE(random_state=42)\n",
    "X_train_sm, y_train_sm = smote.fit_resample(X_train, y_train)\n",
    "\n",
    "xgb_clf = XGBClassifier(random_state=42, use_label_encoder=False, eval_metric='mlogloss')\n",
    "xgb_clf.fit(X_train_sm, y_train_sm)\n",
    "\n",
    "y_pred = xgb_clf.predict(X_test)\n",
    "\n",
    "print(\"Accuracy:\", accuracy_score(y_test, y_pred))\n",
    "print(\"Classification Report:\\n\", classification_report(y_test, y_pred))\n",
    "print(\"Confusion Matrix:\\n\", confusion_matrix(y_test, y_pred))\n"
   ]
  }
 ],
 "metadata": {
  "kernelspec": {
   "display_name": "base",
   "language": "python",
   "name": "python3"
  },
  "language_info": {
   "codemirror_mode": {
    "name": "ipython",
    "version": 3
   },
   "file_extension": ".py",
   "mimetype": "text/x-python",
   "name": "python",
   "nbconvert_exporter": "python",
   "pygments_lexer": "ipython3",
   "version": "3.12.7"
  }
 },
 "nbformat": 4,
 "nbformat_minor": 5
}
