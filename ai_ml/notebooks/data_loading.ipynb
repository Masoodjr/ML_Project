{
 "cells": [
  {
   "cell_type": "code",
   "execution_count": 69,
   "id": "0efbf575",
   "metadata": {},
   "outputs": [],
   "source": [
    "import pandas as pd"
   ]
  },
  {
   "cell_type": "code",
   "execution_count": 70,
   "id": "d8a4a376",
   "metadata": {},
   "outputs": [],
   "source": [
    "df = pd.read_excel(\"/Users/whoseunassailable/Documents/coding_projects/college_projects/ML_Project/ai_ml/data/raw/scraped_profiles.xlsx\")"
   ]
  },
  {
   "cell_type": "code",
   "execution_count": 71,
   "id": "3f8eb6a1",
   "metadata": {},
   "outputs": [
    {
     "data": {
      "text/plain": [
       "(109948, 17)"
      ]
     },
     "execution_count": 71,
     "metadata": {},
     "output_type": "execute_result"
    }
   ],
   "source": [
    "df.shape"
   ]
  },
  {
   "cell_type": "code",
   "execution_count": 72,
   "id": "1c46bd28",
   "metadata": {},
   "outputs": [
    {
     "data": {
      "text/plain": [
       "Index(['ID', 'Acceptance Rate', 'Institution', 'Program', 'Degree Type',\n",
       "       'Degree's Country of Origin', 'Decision', 'Notification Date',\n",
       "       'Notification Method', 'Undergrad GPA', 'GRE General', 'GRE Verbal',\n",
       "       'Analytical Writing', 'Notes', 'Timeline Event', 'Timeline Date',\n",
       "       'Scraped Timestamp'],\n",
       "      dtype='object')"
      ]
     },
     "execution_count": 72,
     "metadata": {},
     "output_type": "execute_result"
    }
   ],
   "source": [
    "df.columns"
   ]
  },
  {
   "cell_type": "code",
   "execution_count": 73,
   "id": "7a0de19d",
   "metadata": {},
   "outputs": [],
   "source": [
    "df = df.rename(columns={\n",
    "    \"ID\": \"id\",\n",
    "    \"Acceptance Rate\": \"acceptance_rate\",\n",
    "    \"Institution\": \"institution\",\n",
    "    \"Program\": \"program\",\n",
    "    \"Degree Type\": \"degree_type\",\n",
    "    \"Degree's Country of Origin\": \"degree_origin_country\",\n",
    "    \"Decision\": \"decision\",\n",
    "    \"Notification Date\": \"notification_date\",\n",
    "    \"Notification Method\": \"notification_method\",\n",
    "    \"Undergrad GPA\": \"undergrad_gpa\",\n",
    "    \"GRE General\": \"gre_quantitative_reasoning\",\n",
    "    \"GRE Verbal\": \"gre_verbal_reasoning\",\n",
    "    \"Analytical Writing\": \"analytical_writing\",\n",
    "    \"Notes\": \"notes\",\n",
    "    \"Timeline Event\": \"timeline_event\",\n",
    "    \"Timeline Date\": \"timeline_date\",\n",
    "    \"Scraped Timestamp\": \"scraped_timestamp\"\n",
    "})\n"
   ]
  },
  {
   "cell_type": "code",
   "execution_count": 74,
   "id": "d14c1273",
   "metadata": {},
   "outputs": [
    {
     "data": {
      "text/plain": [
       "Index(['id', 'acceptance_rate', 'institution', 'program', 'degree_type',\n",
       "       'degree_origin_country', 'decision', 'notification_date',\n",
       "       'notification_method', 'undergrad_gpa', 'gre_quantitative_reasoning',\n",
       "       'gre_verbal_reasoning', 'analytical_writing', 'notes', 'timeline_event',\n",
       "       'timeline_date', 'scraped_timestamp'],\n",
       "      dtype='object')"
      ]
     },
     "execution_count": 74,
     "metadata": {},
     "output_type": "execute_result"
    }
   ],
   "source": [
    "df.columns"
   ]
  },
  {
   "cell_type": "code",
   "execution_count": 75,
   "id": "184f40bc",
   "metadata": {},
   "outputs": [],
   "source": [
    "drop_columns = [\"degree_origin_country\", \"notification_date\", \"notification_method\", \"timeline_event\", \"timeline_date\", \"scraped_timestamp\"]"
   ]
  },
  {
   "cell_type": "code",
   "execution_count": 76,
   "id": "1e17eb7f",
   "metadata": {},
   "outputs": [],
   "source": [
    "df = df.drop(columns=drop_columns)"
   ]
  },
  {
   "cell_type": "code",
   "execution_count": 77,
   "id": "cc1b264f",
   "metadata": {},
   "outputs": [
    {
     "data": {
      "text/plain": [
       "Index(['id', 'acceptance_rate', 'institution', 'program', 'degree_type',\n",
       "       'decision', 'undergrad_gpa', 'gre_quantitative_reasoning',\n",
       "       'gre_verbal_reasoning', 'analytical_writing', 'notes'],\n",
       "      dtype='object')"
      ]
     },
     "execution_count": 77,
     "metadata": {},
     "output_type": "execute_result"
    }
   ],
   "source": [
    "df.columns"
   ]
  },
  {
   "cell_type": "markdown",
   "id": "e19bf97b",
   "metadata": {},
   "source": [
    "### Add a new gre total column"
   ]
  },
  {
   "cell_type": "code",
   "execution_count": 78,
   "id": "8d367bb0",
   "metadata": {},
   "outputs": [],
   "source": [
    "df['gre_total'] = df['gre_quantitative_reasoning'] + df['gre_verbal_reasoning']"
   ]
  },
  {
   "cell_type": "code",
   "execution_count": 79,
   "id": "6a4b9670",
   "metadata": {},
   "outputs": [
    {
     "data": {
      "text/html": [
       "<div>\n",
       "<style scoped>\n",
       "    .dataframe tbody tr th:only-of-type {\n",
       "        vertical-align: middle;\n",
       "    }\n",
       "\n",
       "    .dataframe tbody tr th {\n",
       "        vertical-align: top;\n",
       "    }\n",
       "\n",
       "    .dataframe thead th {\n",
       "        text-align: right;\n",
       "    }\n",
       "</style>\n",
       "<table border=\"1\" class=\"dataframe\">\n",
       "  <thead>\n",
       "    <tr style=\"text-align: right;\">\n",
       "      <th></th>\n",
       "      <th>id</th>\n",
       "      <th>acceptance_rate</th>\n",
       "      <th>institution</th>\n",
       "      <th>program</th>\n",
       "      <th>degree_type</th>\n",
       "      <th>decision</th>\n",
       "      <th>undergrad_gpa</th>\n",
       "      <th>gre_quantitative_reasoning</th>\n",
       "      <th>gre_verbal_reasoning</th>\n",
       "      <th>analytical_writing</th>\n",
       "      <th>notes</th>\n",
       "      <th>gre_total</th>\n",
       "    </tr>\n",
       "  </thead>\n",
       "  <tbody>\n",
       "    <tr>\n",
       "      <th>count</th>\n",
       "      <td>109931</td>\n",
       "      <td>102025</td>\n",
       "      <td>109923</td>\n",
       "      <td>108706</td>\n",
       "      <td>108771</td>\n",
       "      <td>108768</td>\n",
       "      <td>47330</td>\n",
       "      <td>13344</td>\n",
       "      <td>12112</td>\n",
       "      <td>11419</td>\n",
       "      <td>64048</td>\n",
       "      <td>11950</td>\n",
       "    </tr>\n",
       "    <tr>\n",
       "      <th>unique</th>\n",
       "      <td>109568</td>\n",
       "      <td>172</td>\n",
       "      <td>3104</td>\n",
       "      <td>8710</td>\n",
       "      <td>10</td>\n",
       "      <td>9</td>\n",
       "      <td>357</td>\n",
       "      <td>148</td>\n",
       "      <td>92</td>\n",
       "      <td>99</td>\n",
       "      <td>59273</td>\n",
       "      <td>194</td>\n",
       "    </tr>\n",
       "    <tr>\n",
       "      <th>top</th>\n",
       "      <td>985543</td>\n",
       "      <td>40%</td>\n",
       "      <td>University of California</td>\n",
       "      <td>Computer Science</td>\n",
       "      <td>PhD</td>\n",
       "      <td>Accepted</td>\n",
       "      <td>4</td>\n",
       "      <td>170</td>\n",
       "      <td>162</td>\n",
       "      <td>4</td>\n",
       "      <td>Email to check portal</td>\n",
       "      <td>330</td>\n",
       "    </tr>\n",
       "    <tr>\n",
       "      <th>freq</th>\n",
       "      <td>12</td>\n",
       "      <td>8605</td>\n",
       "      <td>4126</td>\n",
       "      <td>8055</td>\n",
       "      <td>69240</td>\n",
       "      <td>40493</td>\n",
       "      <td>5526</td>\n",
       "      <td>2223</td>\n",
       "      <td>850</td>\n",
       "      <td>3246</td>\n",
       "      <td>274</td>\n",
       "      <td>527</td>\n",
       "    </tr>\n",
       "  </tbody>\n",
       "</table>\n",
       "</div>"
      ],
      "text/plain": [
       "            id acceptance_rate               institution           program  \\\n",
       "count   109931          102025                    109923            108706   \n",
       "unique  109568             172                      3104              8710   \n",
       "top     985543             40%  University of California  Computer Science   \n",
       "freq        12            8605                      4126              8055   \n",
       "\n",
       "       degree_type  decision  undergrad_gpa  gre_quantitative_reasoning  \\\n",
       "count       108771    108768          47330                       13344   \n",
       "unique          10         9            357                         148   \n",
       "top            PhD  Accepted              4                         170   \n",
       "freq         69240     40493           5526                        2223   \n",
       "\n",
       "        gre_verbal_reasoning  analytical_writing                  notes  \\\n",
       "count                  12112               11419                  64048   \n",
       "unique                    92                  99                  59273   \n",
       "top                      162                   4  Email to check portal   \n",
       "freq                     850                3246                    274   \n",
       "\n",
       "        gre_total  \n",
       "count       11950  \n",
       "unique        194  \n",
       "top           330  \n",
       "freq          527  "
      ]
     },
     "execution_count": 79,
     "metadata": {},
     "output_type": "execute_result"
    }
   ],
   "source": [
    "df.describe()"
   ]
  },
  {
   "cell_type": "code",
   "execution_count": 80,
   "id": "38250588",
   "metadata": {},
   "outputs": [],
   "source": [
    "df.to_excel('../data/processed/loaded_data.xlsx', index=False)"
   ]
  }
 ],
 "metadata": {
  "kernelspec": {
   "display_name": "base",
   "language": "python",
   "name": "python3"
  },
  "language_info": {
   "codemirror_mode": {
    "name": "ipython",
    "version": 3
   },
   "file_extension": ".py",
   "mimetype": "text/x-python",
   "name": "python",
   "nbconvert_exporter": "python",
   "pygments_lexer": "ipython3",
   "version": "3.12.7"
  }
 },
 "nbformat": 4,
 "nbformat_minor": 5
}
