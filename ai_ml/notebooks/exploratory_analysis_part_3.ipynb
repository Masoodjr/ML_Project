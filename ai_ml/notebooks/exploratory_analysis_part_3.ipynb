{
 "cells": [
  {
   "cell_type": "code",
   "execution_count": 2,
   "id": "45705cc0",
   "metadata": {},
   "outputs": [],
   "source": [
    "import pandas as pd\n",
    "from sklearn.preprocessing import LabelEncoder, StandardScaler"
   ]
  },
  {
   "cell_type": "code",
   "execution_count": 3,
   "id": "fb95851e",
   "metadata": {},
   "outputs": [],
   "source": [
    "# === Load Dataset ===\n",
    "df = pd.read_excel(\"../data/processed/preprocessed_final.xlsx\")"
   ]
  },
  {
   "cell_type": "code",
   "execution_count": 6,
   "id": "ca8aa6f2",
   "metadata": {},
   "outputs": [],
   "source": [
    "# === Load and Clean QS World Ranking Data ===\n",
    "qs_df = pd.read_csv(\"../data/raw/qs_world_ranking_university.csv\")\n",
    "qs_df_clean = qs_df.iloc[1:].copy()\n",
    "qs_df_clean.rename(columns={\"Institution Name\": \"institution\", \"2024 RANK\": \"qs_rank\"}, inplace=True)\n",
    "qs_df_clean[\"qs_rank\"] = pd.to_numeric(qs_df_clean[\"qs_rank\"], errors=\"coerce\")"
   ]
  },
  {
   "cell_type": "code",
   "execution_count": 7,
   "id": "2ee45978",
   "metadata": {},
   "outputs": [],
   "source": [
    "df[\"institution\"] = df[\"institution\"].astype(str).str.strip()\n",
    "qs_df_clean[\"institution\"] = qs_df_clean[\"institution\"].astype(str).str.strip()"
   ]
  },
  {
   "cell_type": "code",
   "execution_count": 8,
   "id": "bfa24988",
   "metadata": {},
   "outputs": [],
   "source": [
    "# Merge QS data\n",
    "df = df.merge(qs_df_clean[[\"institution\", \"qs_rank\"]], on=\"institution\", how=\"left\")\n",
    "df[\"qs_rank_score\"] = -df[\"qs_rank\"]"
   ]
  },
  {
   "cell_type": "code",
   "execution_count": 9,
   "id": "bf3dd726",
   "metadata": {},
   "outputs": [],
   "source": [
    "# Assign QS Tier Buckets\n",
    "def assign_qs_tier(rank):\n",
    "    if pd.isna(rank):\n",
    "        return 4\n",
    "    elif rank <= 50:\n",
    "        return 0\n",
    "    elif rank <= 100:\n",
    "        return 1\n",
    "    elif rank <= 300:\n",
    "        return 2\n",
    "    elif rank <= 800:\n",
    "        return 3\n",
    "    else:\n",
    "        return 4\n"
   ]
  },
  {
   "cell_type": "code",
   "execution_count": 10,
   "id": "672124e9",
   "metadata": {},
   "outputs": [],
   "source": [
    "df[\"qs_tier\"] = df[\"qs_rank\"].apply(assign_qs_tier)"
   ]
  },
  {
   "cell_type": "code",
   "execution_count": 11,
   "id": "3f3a72be",
   "metadata": {},
   "outputs": [],
   "source": [
    "# === Feature Engineering ===\n",
    "df['gpa_percentile'] = df['undergrad_gpa'] / 4.0  # GPA normalized\n",
    "df['gre_avg'] = (df['gre_quantitative_reasoning'] + df['gre_verbal_reasoning']) / 2\n",
    "df['gpa_x_acceptancerate'] = df['undergrad_gpa'] * df['acceptance_rate']\n",
    "df[\"application_strength\"] = df[\"undergrad_gpa\"] * df[\"acceptance_rate\"]\n",
    "df[\"tier_combo\"] = df[\"institution\"].astype(str) + \"_\" + df[\"degree_type\"].astype(str)\n",
    "df[\"tier_score\"] = LabelEncoder().fit_transform(df[\"tier_combo\"])"
   ]
  },
  {
   "cell_type": "code",
   "execution_count": 12,
   "id": "7bef33cc",
   "metadata": {},
   "outputs": [],
   "source": [
    "# === Label Encoding for Categorical Columns ===\n",
    "categorical_columns = ['institution', 'program', 'degree_type', 'decision']\n",
    "label_encoders = {}\n",
    "for col in categorical_columns:\n",
    "    le = LabelEncoder()\n",
    "    df[col] = le.fit_transform(df[col])\n",
    "    label_encoders[col] = le"
   ]
  },
  {
   "cell_type": "code",
   "execution_count": 13,
   "id": "3cac8417",
   "metadata": {},
   "outputs": [
    {
     "name": "stdout",
     "output_type": "stream",
     "text": [
      "Label mapping for 'decision':\n",
      "  Accepted => 0\n",
      "  Interview => 1\n",
      "  Other => 2\n",
      "  Rejected => 3\n",
      "  Wait listed => 4\n"
     ]
    }
   ],
   "source": [
    "# Print decision label mapping\n",
    "le = label_encoders['decision']\n",
    "print(\"Label mapping for 'decision':\")\n",
    "for idx, label in enumerate(le.classes_):\n",
    "    print(f\"  {label} => {idx}\")"
   ]
  },
  {
   "cell_type": "code",
   "execution_count": 14,
   "id": "72795e11",
   "metadata": {},
   "outputs": [],
   "source": [
    "# === Scaling Numerical Features ===\n",
    "numeric_features = ['acceptance_rate', 'undergrad_gpa', 'gre_quantitative_reasoning',\n",
    "                    'gre_verbal_reasoning', 'analytical_writing', 'gre_total', 'gpa_percentile',\n",
    "                    'gre_avg', 'gpa_x_acceptancerate', 'application_strength']"
   ]
  },
  {
   "cell_type": "code",
   "execution_count": 15,
   "id": "8a8bddf9",
   "metadata": {},
   "outputs": [],
   "source": [
    "scaler = StandardScaler()\n",
    "df[numeric_features] = scaler.fit_transform(df[numeric_features])"
   ]
  },
  {
   "cell_type": "code",
   "execution_count": 16,
   "id": "09500c93",
   "metadata": {},
   "outputs": [],
   "source": [
    "# === Drop Unnecessary Columns ===\n",
    "df = df.drop(columns=['notes', 'Unnamed: 0'])"
   ]
  },
  {
   "cell_type": "code",
   "execution_count": 17,
   "id": "a80241f8",
   "metadata": {},
   "outputs": [],
   "source": [
    "# === Group Target Labels ===\n",
    "grouped_map = {\n",
    "    0: 0,  # Accepted\n",
    "    1: 2,  # Interview → Other\n",
    "    2: 2,  # Other → Other\n",
    "    3: 1,  # Rejected\n",
    "    4: 2   # Wait listed → Other\n",
    "}"
   ]
  },
  {
   "cell_type": "code",
   "execution_count": 18,
   "id": "20bf6f14",
   "metadata": {},
   "outputs": [],
   "source": [
    "df['decision_grouped'] = df['decision'].map(grouped_map)"
   ]
  },
  {
   "cell_type": "code",
   "execution_count": 19,
   "id": "067adc87",
   "metadata": {},
   "outputs": [],
   "source": [
    "# === Save Final Enhanced Dataset ===\n",
    "df.to_excel(\"../data/processed/exploratory_analysis_final.xlsx\", index=False)"
   ]
  },
  {
   "cell_type": "code",
   "execution_count": 20,
   "id": "0c9957ac",
   "metadata": {},
   "outputs": [],
   "source": [
    "# === Final Feature List ===\n",
    "feature_cols = [\n",
    "    'acceptance_rate',\n",
    "    'undergrad_gpa',\n",
    "    'gre_quantitative_reasoning',\n",
    "    'gre_verbal_reasoning',\n",
    "    'analytical_writing',\n",
    "    'gre_total',\n",
    "    'gpa_percentile',\n",
    "    'gre_avg',\n",
    "    'gpa_x_acceptancerate',\n",
    "    'application_strength',\n",
    "    'qs_rank',\n",
    "    'qs_rank_score',\n",
    "    'qs_tier',\n",
    "    'tier_score',\n",
    "    'program',\n",
    "    'degree_type',\n",
    "    'institution'\n",
    "]\n"
   ]
  }
 ],
 "metadata": {
  "kernelspec": {
   "display_name": "base",
   "language": "python",
   "name": "python3"
  },
  "language_info": {
   "codemirror_mode": {
    "name": "ipython",
    "version": 3
   },
   "file_extension": ".py",
   "mimetype": "text/x-python",
   "name": "python",
   "nbconvert_exporter": "python",
   "pygments_lexer": "ipython3",
   "version": "3.12.7"
  }
 },
 "nbformat": 4,
 "nbformat_minor": 5
}
