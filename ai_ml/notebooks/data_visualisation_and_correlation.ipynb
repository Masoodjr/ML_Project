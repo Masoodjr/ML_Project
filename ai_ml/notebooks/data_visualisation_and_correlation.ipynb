{
 "cells": [
  {
   "cell_type": "code",
   "execution_count": 1,
   "id": "22209117",
   "metadata": {},
   "outputs": [],
   "source": [
    "import pandas as pd"
   ]
  },
  {
   "cell_type": "code",
   "execution_count": null,
   "id": "3577d164",
   "metadata": {},
   "outputs": [],
   "source": [
    "df = pd.read_excel(../data/processed/preprocessed_data.xlsx)"
   ]
  },
  {
   "cell_type": "code",
   "execution_count": null,
   "id": "b458bdd9",
   "metadata": {},
   "outputs": [],
   "source": [
    "# Select columns for correlation\n",
    "corr_cols = ['decision_encoded', 'undergrad_gpa', 'gre_general', 'gre_verbal', 'analytical_writing']\n",
    "df_corr = df[corr_cols].dropna()\n",
    "plt.figure(figsize=(8, 6))\n"
   ]
  },
  {
   "cell_type": "code",
   "execution_count": null,
   "id": "f5a0ea7d",
   "metadata": {},
   "outputs": [],
   "source": [
    "# Compute and plot correlation matrix\n",
    "sns.heatmap(df_corr.corr(), annot=True, cmap='coolwarm', fmt=\".2f\")\n",
    "plt.title(\"Correlation Matrix: Decision vs Academic Scores\")\n",
    "plt.show()"
   ]
  },
  {
   "cell_type": "code",
   "execution_count": null,
   "id": "64553797",
   "metadata": {},
   "outputs": [],
   "source": [
    "for col in ['undergrad_gpa', 'gre_total', 'gre_verbal', 'analytical_writing']:\n",
    "    fig = px.histogram(df, x=col, marginal=\"box\", color='decision',\n",
    "                       title=f\"{col} vs Decision\",\n",
    "                       color_discrete_sequence=px.colors.qualitative.Set2)\n",
    "    fig.update_layout(bargap=0.2)\n",
    "    fig.show()"
   ]
  },
  {
   "cell_type": "code",
   "execution_count": null,
   "id": "54512e3c",
   "metadata": {},
   "outputs": [],
   "source": [
    "# degree_type vs decision\n",
    "fig = px.histogram(df, x='degree_type', color='decision',\n",
    "                   title='Degree Type vs Decision',\n",
    "                   color_discrete_sequence=px.colors.qualitative.Set3)\n",
    "fig.show()"
   ]
  },
  {
   "cell_type": "code",
   "execution_count": null,
   "id": "0268453a",
   "metadata": {},
   "outputs": [],
   "source": [
    "# degree_type vs program\n",
    "fig = px.histogram(df, x='degree_type', color='program',\n",
    "                   title='Degree Type vs Program',\n",
    "                   color_discrete_sequence=px.colors.qualitative.Set1)\n",
    "fig.show()\n"
   ]
  },
  {
   "cell_type": "code",
   "execution_count": null,
   "id": "60426fb6",
   "metadata": {},
   "outputs": [],
   "source": [
    "df['acceptance_rate_numeric'] = df['acceptance_rate'].str.rstrip('%').astype(float)\n",
    "\n",
    "fig = px.box(df, x='institution', y='acceptance_rate_numeric',\n",
    "             title='Acceptance Rate by Institution')\n",
    "fig.update_layout(xaxis={'categoryorder':'total descending'})\n",
    "fig.show()\n"
   ]
  },
  {
   "cell_type": "code",
   "execution_count": null,
   "id": "b1a1a248",
   "metadata": {},
   "outputs": [],
   "source": [
    "fig = px.histogram(df, x='acceptance_rate_numeric', color='institution',\n",
    "                   title='Acceptance Rate Distribution per Institution',\n",
    "                   marginal='box')\n",
    "fig.show()\n"
   ]
  },
  {
   "cell_type": "code",
   "execution_count": null,
   "id": "30735947",
   "metadata": {},
   "outputs": [],
   "source": [
    "for col in ['gre_total', 'undergrad_gpa']:\n",
    "    fig = px.box(df, x='program', y=col,\n",
    "                 title=f'{col} by Program',\n",
    "                 points='all')  # show all data points\n",
    "    fig.update_layout(xaxis={'categoryorder':'total descending'})\n",
    "    fig.show()\n"
   ]
  },
  {
   "cell_type": "code",
   "execution_count": null,
   "id": "b4e9a4a5",
   "metadata": {},
   "outputs": [],
   "source": [
    "### Exploratory data analysis using pandas-profiling\n",
    "profile = ProfileReport(df)"
   ]
  }
 ],
 "metadata": {
  "kernelspec": {
   "display_name": "base",
   "language": "python",
   "name": "python3"
  },
  "language_info": {
   "codemirror_mode": {
    "name": "ipython",
    "version": 3
   },
   "file_extension": ".py",
   "mimetype": "text/x-python",
   "name": "python",
   "nbconvert_exporter": "python",
   "pygments_lexer": "ipython3",
   "version": "3.12.7"
  }
 },
 "nbformat": 4,
 "nbformat_minor": 5
}
