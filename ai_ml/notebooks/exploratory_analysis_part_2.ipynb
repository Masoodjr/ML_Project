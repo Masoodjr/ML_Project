{
 "cells": [
  {
   "cell_type": "code",
   "execution_count": null,
   "id": "ab5ebdf7",
   "metadata": {},
   "outputs": [],
   "source": [
    "import pandas as pd\n",
    "from sklearn.preprocessing import LabelEncoder\n",
    "from sklearn.preprocessing import StandardScaler\n"
   ]
  },
  {
   "cell_type": "code",
   "execution_count": 234,
   "id": "6eae22f3",
   "metadata": {},
   "outputs": [],
   "source": [
    "df = pd.read_excel(\"../data/processed/preprocessed_final.xlsx\")"
   ]
  },
  {
   "cell_type": "code",
   "execution_count": 235,
   "id": "a2255a5f",
   "metadata": {},
   "outputs": [],
   "source": [
    "# Select categorical columns for one-hot encoding\n",
    "categorical_columns = ['institution', 'program', 'degree_type', 'decision']"
   ]
  },
  {
   "cell_type": "code",
   "execution_count": 236,
   "id": "18d6cd44",
   "metadata": {},
   "outputs": [],
   "source": [
    "# Initialize label encoder\n",
    "label_encoders = {}\n",
    "for col in categorical_columns:\n",
    "    le = LabelEncoder()\n",
    "    df[col] = le.fit_transform(df[col])\n",
    "    label_encoders[col] = le  # Store the encoder for future inverse mapping if needed\n"
   ]
  },
  {
   "cell_type": "code",
   "execution_count": 237,
   "id": "43e4a2cd",
   "metadata": {},
   "outputs": [
    {
     "name": "stdout",
     "output_type": "stream",
     "text": [
      "Label mapping for 'decision':\n",
      "  Accepted => 0\n",
      "  Interview => 1\n",
      "  Other => 2\n",
      "  Rejected => 3\n",
      "  Wait listed => 4\n"
     ]
    }
   ],
   "source": [
    "\n",
    "le = label_encoders[categorical_columns[3]]\n",
    "print(\"Label mapping for 'decision':\")\n",
    "for idx, label in enumerate(le.classes_):\n",
    "    print(f\"  {label} => {idx}\")\n"
   ]
  },
  {
   "cell_type": "code",
   "execution_count": 238,
   "id": "f1953aaa",
   "metadata": {},
   "outputs": [
    {
     "data": {
      "text/html": [
       "<div>\n",
       "<style scoped>\n",
       "    .dataframe tbody tr th:only-of-type {\n",
       "        vertical-align: middle;\n",
       "    }\n",
       "\n",
       "    .dataframe tbody tr th {\n",
       "        vertical-align: top;\n",
       "    }\n",
       "\n",
       "    .dataframe thead th {\n",
       "        text-align: right;\n",
       "    }\n",
       "</style>\n",
       "<table border=\"1\" class=\"dataframe\">\n",
       "  <thead>\n",
       "    <tr style=\"text-align: right;\">\n",
       "      <th></th>\n",
       "      <th>Unnamed: 0</th>\n",
       "      <th>id</th>\n",
       "      <th>acceptance_rate</th>\n",
       "      <th>institution</th>\n",
       "      <th>program</th>\n",
       "      <th>degree_type</th>\n",
       "      <th>decision</th>\n",
       "      <th>undergrad_gpa</th>\n",
       "      <th>gre_quantitative_reasoning</th>\n",
       "      <th>gre_verbal_reasoning</th>\n",
       "      <th>analytical_writing</th>\n",
       "      <th>notes</th>\n",
       "      <th>gre_total</th>\n",
       "    </tr>\n",
       "  </thead>\n",
       "  <tbody>\n",
       "    <tr>\n",
       "      <th>0</th>\n",
       "      <td>0</td>\n",
       "      <td>879550</td>\n",
       "      <td>31.0</td>\n",
       "      <td>1070</td>\n",
       "      <td>2848</td>\n",
       "      <td>6</td>\n",
       "      <td>3</td>\n",
       "      <td>3.931486</td>\n",
       "      <td>132</td>\n",
       "      <td>146</td>\n",
       "      <td>2.0</td>\n",
       "      <td>NaN</td>\n",
       "      <td>278</td>\n",
       "    </tr>\n",
       "    <tr>\n",
       "      <th>1</th>\n",
       "      <td>1</td>\n",
       "      <td>879549</td>\n",
       "      <td>32.0</td>\n",
       "      <td>861</td>\n",
       "      <td>687</td>\n",
       "      <td>6</td>\n",
       "      <td>3</td>\n",
       "      <td>3.990000</td>\n",
       "      <td>136</td>\n",
       "      <td>142</td>\n",
       "      <td>5.6</td>\n",
       "      <td>Rejected at midnight PDT after interview. my C...</td>\n",
       "      <td>278</td>\n",
       "    </tr>\n",
       "    <tr>\n",
       "      <th>2</th>\n",
       "      <td>2</td>\n",
       "      <td>879548</td>\n",
       "      <td>45.0</td>\n",
       "      <td>520</td>\n",
       "      <td>7281</td>\n",
       "      <td>6</td>\n",
       "      <td>3</td>\n",
       "      <td>3.811025</td>\n",
       "      <td>138</td>\n",
       "      <td>152</td>\n",
       "      <td>4.4</td>\n",
       "      <td>NaN</td>\n",
       "      <td>290</td>\n",
       "    </tr>\n",
       "    <tr>\n",
       "      <th>3</th>\n",
       "      <td>3</td>\n",
       "      <td>879547</td>\n",
       "      <td>44.0</td>\n",
       "      <td>906</td>\n",
       "      <td>6375</td>\n",
       "      <td>6</td>\n",
       "      <td>0</td>\n",
       "      <td>3.560000</td>\n",
       "      <td>133</td>\n",
       "      <td>138</td>\n",
       "      <td>4.7</td>\n",
       "      <td>Acceptance letter from the department, officia...</td>\n",
       "      <td>271</td>\n",
       "    </tr>\n",
       "    <tr>\n",
       "      <th>4</th>\n",
       "      <td>4</td>\n",
       "      <td>879546</td>\n",
       "      <td>40.0</td>\n",
       "      <td>155</td>\n",
       "      <td>3669</td>\n",
       "      <td>6</td>\n",
       "      <td>3</td>\n",
       "      <td>3.897579</td>\n",
       "      <td>140</td>\n",
       "      <td>150</td>\n",
       "      <td>6.0</td>\n",
       "      <td>email from POI</td>\n",
       "      <td>290</td>\n",
       "    </tr>\n",
       "  </tbody>\n",
       "</table>\n",
       "</div>"
      ],
      "text/plain": [
       "   Unnamed: 0      id  acceptance_rate  institution  program  degree_type  \\\n",
       "0           0  879550             31.0         1070     2848            6   \n",
       "1           1  879549             32.0          861      687            6   \n",
       "2           2  879548             45.0          520     7281            6   \n",
       "3           3  879547             44.0          906     6375            6   \n",
       "4           4  879546             40.0          155     3669            6   \n",
       "\n",
       "   decision  undergrad_gpa  gre_quantitative_reasoning  gre_verbal_reasoning  \\\n",
       "0         3       3.931486                         132                   146   \n",
       "1         3       3.990000                         136                   142   \n",
       "2         3       3.811025                         138                   152   \n",
       "3         0       3.560000                         133                   138   \n",
       "4         3       3.897579                         140                   150   \n",
       "\n",
       "   analytical_writing                                              notes  \\\n",
       "0                 2.0                                                NaN   \n",
       "1                 5.6  Rejected at midnight PDT after interview. my C...   \n",
       "2                 4.4                                                NaN   \n",
       "3                 4.7  Acceptance letter from the department, officia...   \n",
       "4                 6.0                                     email from POI   \n",
       "\n",
       "   gre_total  \n",
       "0        278  \n",
       "1        278  \n",
       "2        290  \n",
       "3        271  \n",
       "4        290  "
      ]
     },
     "execution_count": 238,
     "metadata": {},
     "output_type": "execute_result"
    }
   ],
   "source": [
    "df.head(5)"
   ]
  },
  {
   "cell_type": "markdown",
   "id": "d9ffc317",
   "metadata": {},
   "source": [
    "### Create new features\n"
   ]
  },
  {
   "cell_type": "code",
   "execution_count": 239,
   "id": "346368a4",
   "metadata": {},
   "outputs": [],
   "source": [
    "df['gpa_percentile'] = df['undergrad_gpa'] / 4.0  # assuming 4.0 scale\n",
    "df['gre_avg'] = (df['gre_quantitative_reasoning'] + df['gre_verbal_reasoning']) / 2\n",
    "df['gpa_x_acceptancerate'] = df['undergrad_gpa'] * df['acceptance_rate']"
   ]
  },
  {
   "cell_type": "markdown",
   "id": "c1ea3202",
   "metadata": {},
   "source": [
    "### Scale numeric features"
   ]
  },
  {
   "cell_type": "code",
   "execution_count": 240,
   "id": "c1a19417",
   "metadata": {},
   "outputs": [],
   "source": [
    "numeric_features = ['acceptance_rate', 'undergrad_gpa', 'gre_quantitative_reasoning',\n",
    "                    'gre_verbal_reasoning', 'analytical_writing', 'gre_total', 'gpa_percentile',\n",
    "                    'gre_avg', 'gpa_x_acceptancerate']"
   ]
  },
  {
   "cell_type": "code",
   "execution_count": 241,
   "id": "01d9fad6",
   "metadata": {},
   "outputs": [],
   "source": [
    "\n",
    "scaler = StandardScaler()\n",
    "df[numeric_features] = scaler.fit_transform(df[numeric_features])"
   ]
  },
  {
   "cell_type": "code",
   "execution_count": 242,
   "id": "39b530b5",
   "metadata": {},
   "outputs": [],
   "source": [
    "# # Step 1: Map unique institutions to their known (non-null) acceptance rates\n",
    "# institution_acceptance_map = (\n",
    "#     df[df['acceptance_rate'].notnull()]\n",
    "#     .groupby('institution')['acceptance_rate']\n",
    "#     .first()\n",
    "#     .to_dict()\n",
    "# )\n",
    "\n",
    "# # Step 2: Find rows where acceptance_rate is null\n",
    "# null_acceptance_rows = df[df['acceptance_rate'].isnull()]\n",
    "\n",
    "# # Step 3 & 4: Fill missing acceptance rates based on institution name\n",
    "# df.loc[df['acceptance_rate'].isnull(), 'acceptance_rate'] = df.loc[\n",
    "#     df['acceptance_rate'].isnull(), 'institution'\n",
    "# ].map(institution_acceptance_map)\n",
    "\n",
    "# # Optional: Save the updated DataFrame to a new Excel file\n",
    "# df.to_excel(\"../data/processed/loaded_data.xlsx\")\n",
    "\n",
    "# df = pd.read_excel(\"../data/processed/loaded_data.xlsx\")\n",
    "\n",
    "# df = df.dropna(subset=['institution', 'program', 'degree_type', 'decision'])\n",
    "\n",
    "# df.acceptance_rate.isna()\n",
    "# 7734"
   ]
  },
  {
   "cell_type": "code",
   "execution_count": 243,
   "id": "36ed1b6d",
   "metadata": {},
   "outputs": [],
   "source": [
    "# Drop non-numeric or irrelevant columns\n",
    "df = df.drop(columns=['notes', 'Unnamed: 0'])"
   ]
  },
  {
   "cell_type": "code",
   "execution_count": 244,
   "id": "535c5c24",
   "metadata": {},
   "outputs": [],
   "source": [
    "grouped_map = {\n",
    "    0: 0,  # Accepted\n",
    "    1: 2,  # Interview → Other\n",
    "    2: 2,  # Other → Other\n",
    "    3: 1,  # Rejected\n",
    "    4: 2   # Wait listed → Other\n",
    "}\n",
    "df['decision_grouped'] = df['decision'].map(grouped_map)"
   ]
  },
  {
   "cell_type": "code",
   "execution_count": 245,
   "id": "ae11ffbc",
   "metadata": {},
   "outputs": [],
   "source": [
    "df.to_excel(\"../data/processed/exploratory_analysis.xlsx\")"
   ]
  },
  {
   "cell_type": "code",
   "execution_count": 246,
   "id": "cdc81326",
   "metadata": {},
   "outputs": [],
   "source": [
    "feature_cols = [\n",
    "    'acceptance_rate',\n",
    "    'undergrad_gpa',\n",
    "    'gre_quantitative_reasoning',\n",
    "    'gre_verbal_reasoning',\n",
    "    'analytical_writing',\n",
    "    'gre_total',\n",
    "    'gpa_percentile',\n",
    "    'gre_avg',\n",
    "    'gpa_x_acceptancerate',\n",
    "    'program',          \n",
    "    'degree_type',     \n",
    "    'institution'        \n",
    "]\n"
   ]
  },
  {
   "cell_type": "markdown",
   "id": "300d43e4",
   "metadata": {},
   "source": [
    "# Flow\n",
    "\n",
    "- Make sure data is distributed evenly\n",
    "- encode target variable\n",
    "- use label encoding for \"string\" data columns\n",
    "- run feature engineering\n",
    "    -  to reduce number of features\n",
    "- check correlation between columns\n",
    "- run model training\n",
    "- run eval on test dataset\n",
    "- create api endpoint for the model"
   ]
  },
  {
   "cell_type": "markdown",
   "id": "cb6cde3f",
   "metadata": {},
   "source": []
  }
 ],
 "metadata": {
  "kernelspec": {
   "display_name": "base",
   "language": "python",
   "name": "python3"
  },
  "language_info": {
   "codemirror_mode": {
    "name": "ipython",
    "version": 3
   },
   "file_extension": ".py",
   "mimetype": "text/x-python",
   "name": "python",
   "nbconvert_exporter": "python",
   "pygments_lexer": "ipython3",
   "version": "3.12.7"
  }
 },
 "nbformat": 4,
 "nbformat_minor": 5
}
