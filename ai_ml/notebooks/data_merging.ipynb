{
 "cells": [
  {
   "cell_type": "code",
   "execution_count": 10,
   "id": "5d09046e",
   "metadata": {},
   "outputs": [],
   "source": [
    "import pandas as pd\n",
    "from sklearn.preprocessing import LabelEncoder\n"
   ]
  },
  {
   "cell_type": "code",
   "execution_count": 11,
   "id": "569f3acd",
   "metadata": {},
   "outputs": [],
   "source": [
    "# Load your main dataset\n",
    "df = pd.read_excel(\"../data/processed/exploratory_analysis.xlsx\")"
   ]
  },
  {
   "cell_type": "code",
   "execution_count": 12,
   "id": "d864cc81",
   "metadata": {},
   "outputs": [],
   "source": [
    "# Load and clean QS data\n",
    "qs_df = pd.read_csv(\"../data/raw/qs_world_ranking_university.csv\")\n",
    "qs_df_clean = qs_df.iloc[1:].copy()  # remove internal header row\n",
    "qs_df_clean.rename(columns={\"Institution Name\": \"institution\", \"2024 RANK\": \"qs_rank\"}, inplace=True)\n",
    "qs_df_clean[\"qs_rank\"] = pd.to_numeric(qs_df_clean[\"qs_rank\"], errors=\"coerce\")"
   ]
  },
  {
   "cell_type": "code",
   "execution_count": 13,
   "id": "20dbcf84",
   "metadata": {},
   "outputs": [],
   "source": [
    "# Ensure matching column types for merge\n",
    "df[\"institution\"] = df[\"institution\"].astype(str).str.strip()\n",
    "qs_df_clean[\"institution\"] = qs_df_clean[\"institution\"].astype(str).str.strip()"
   ]
  },
  {
   "cell_type": "code",
   "execution_count": 14,
   "id": "83db1f7d",
   "metadata": {},
   "outputs": [],
   "source": [
    "# Merge QS rank into main dataset\n",
    "df = df.merge(qs_df_clean[[\"institution\", \"qs_rank\"]], on=\"institution\", how=\"left\")"
   ]
  },
  {
   "cell_type": "code",
   "execution_count": 15,
   "id": "a4b00fe8",
   "metadata": {},
   "outputs": [],
   "source": [
    "# Add QS score feature (higher = better rank)\n",
    "df[\"qs_rank_score\"] = -df[\"qs_rank\"]"
   ]
  },
  {
   "cell_type": "code",
   "execution_count": 16,
   "id": "6a3d82b2",
   "metadata": {},
   "outputs": [],
   "source": [
    "# Add QS tier buckets\n",
    "def assign_qs_tier(rank):\n",
    "    if pd.isna(rank):\n",
    "        return 4\n",
    "    elif rank <= 50:\n",
    "        return 0\n",
    "    elif rank <= 100:\n",
    "        return 1\n",
    "    elif rank <= 300:\n",
    "        return 2\n",
    "    elif rank <= 800:\n",
    "        return 3\n",
    "    else:\n",
    "        return 4"
   ]
  },
  {
   "cell_type": "code",
   "execution_count": 17,
   "id": "949d6dae",
   "metadata": {},
   "outputs": [],
   "source": [
    "df[\"qs_tier\"] = df[\"qs_rank\"].apply(assign_qs_tier)"
   ]
  },
  {
   "cell_type": "code",
   "execution_count": 18,
   "id": "ed75c73f",
   "metadata": {},
   "outputs": [],
   "source": [
    "# Add application_strength = GPA × acceptance_rate\n",
    "df[\"application_strength\"] = df[\"undergrad_gpa\"] * df[\"acceptance_rate\"]"
   ]
  },
  {
   "cell_type": "code",
   "execution_count": 19,
   "id": "ba8dcff4",
   "metadata": {},
   "outputs": [],
   "source": [
    "# Add tier_score = institution × degree_type (encoded combo)\n",
    "df[\"tier_combo\"] = df[\"institution\"].astype(str) + \"_\" + df[\"degree_type\"].astype(str)\n",
    "df[\"tier_score\"] = LabelEncoder().fit_transform(df[\"tier_combo\"])"
   ]
  },
  {
   "cell_type": "code",
   "execution_count": 20,
   "id": "0cdfd28b",
   "metadata": {},
   "outputs": [],
   "source": [
    "# Save final dataset\n",
    "df.to_excel(\"../data/processed/qs_and_exploratory_combined.xlsx\", index=False)"
   ]
  }
 ],
 "metadata": {
  "kernelspec": {
   "display_name": "base",
   "language": "python",
   "name": "python3"
  },
  "language_info": {
   "codemirror_mode": {
    "name": "ipython",
    "version": 3
   },
   "file_extension": ".py",
   "mimetype": "text/x-python",
   "name": "python",
   "nbconvert_exporter": "python",
   "pygments_lexer": "ipython3",
   "version": "3.12.7"
  }
 },
 "nbformat": 4,
 "nbformat_minor": 5
}
