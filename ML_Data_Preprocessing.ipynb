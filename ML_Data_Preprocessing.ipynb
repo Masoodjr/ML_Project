{
 "cells": [
  {
   "cell_type": "code",
   "execution_count": 34,
   "id": "0810cd9d",
   "metadata": {},
   "outputs": [],
   "source": [
    "import pandas as pd\n",
    "import numpy as np\n",
    "import os\n",
    "import time\n",
    "from itertools import cycle\n",
    "from rich import print\n",
    "from rich.console import Console\n",
    "from rich.table import Table\n",
    "from rich.panel import Panel\n",
    "from rich.style import Style\n",
    "from rich.panel import Panel\n",
    "from rich.live import Live\n",
    "from dataset_visualiser import visualize_dataset\n"
   ]
  },
  {
   "cell_type": "code",
   "execution_count": 35,
   "id": "f6808d92",
   "metadata": {},
   "outputs": [
    {
     "data": {
      "text/html": [
       "<div>\n",
       "<style scoped>\n",
       "    .dataframe tbody tr th:only-of-type {\n",
       "        vertical-align: middle;\n",
       "    }\n",
       "\n",
       "    .dataframe tbody tr th {\n",
       "        vertical-align: top;\n",
       "    }\n",
       "\n",
       "    .dataframe thead th {\n",
       "        text-align: right;\n",
       "    }\n",
       "</style>\n",
       "<table border=\"1\" class=\"dataframe\">\n",
       "  <thead>\n",
       "    <tr style=\"text-align: right;\">\n",
       "      <th></th>\n",
       "      <th>University ID</th>\n",
       "      <th>University Name</th>\n",
       "      <th>Program Type</th>\n",
       "      <th>Location</th>\n",
       "      <th>GRE Score</th>\n",
       "      <th>TOEFL Score</th>\n",
       "      <th>GPA</th>\n",
       "      <th>Ranking</th>\n",
       "      <th>Placement Rate (%)</th>\n",
       "      <th>Tuition Fee (USD/year)</th>\n",
       "      <th>...</th>\n",
       "      <th>Student Last Name</th>\n",
       "      <th>Student Email</th>\n",
       "      <th>Phone</th>\n",
       "      <th>Date of Birth</th>\n",
       "      <th>Funding Source</th>\n",
       "      <th>Funding Amount</th>\n",
       "      <th>Funding Year</th>\n",
       "      <th>Program Name</th>\n",
       "      <th>Program Duration (Years)</th>\n",
       "      <th>Application Deadline</th>\n",
       "    </tr>\n",
       "  </thead>\n",
       "  <tbody>\n",
       "    <tr>\n",
       "      <th>0</th>\n",
       "      <td>1</td>\n",
       "      <td>University of California, Berkeley - Undergrad...</td>\n",
       "      <td>Undergraduate</td>\n",
       "      <td>Nebraska</td>\n",
       "      <td>298.0</td>\n",
       "      <td>110.0</td>\n",
       "      <td>2.72</td>\n",
       "      <td>97054</td>\n",
       "      <td>98.62</td>\n",
       "      <td>68075</td>\n",
       "      <td>...</td>\n",
       "      <td>Jones</td>\n",
       "      <td>bradley.jones0@example.edu</td>\n",
       "      <td>(203)-744-2631</td>\n",
       "      <td>14-12-1989</td>\n",
       "      <td>Martin, Silva and Reid</td>\n",
       "      <td>194621</td>\n",
       "      <td>2022</td>\n",
       "      <td>Animal technologist Program</td>\n",
       "      <td>5</td>\n",
       "      <td>29-08-2025</td>\n",
       "    </tr>\n",
       "    <tr>\n",
       "      <th>1</th>\n",
       "      <td>2</td>\n",
       "      <td>Princeton University - Diploma School</td>\n",
       "      <td>Diploma</td>\n",
       "      <td>Maryland</td>\n",
       "      <td>328.0</td>\n",
       "      <td>118.0</td>\n",
       "      <td>3.80</td>\n",
       "      <td>24489</td>\n",
       "      <td>65.59</td>\n",
       "      <td>47834</td>\n",
       "      <td>...</td>\n",
       "      <td>Mcfarland</td>\n",
       "      <td>kendra.mcfarland1@example.edu</td>\n",
       "      <td>(655)-615-0763</td>\n",
       "      <td>21-02-2004</td>\n",
       "      <td>Wells-Warren</td>\n",
       "      <td>158259</td>\n",
       "      <td>2025</td>\n",
       "      <td>International aid/development worker Program</td>\n",
       "      <td>3</td>\n",
       "      <td>17-09-2025</td>\n",
       "    </tr>\n",
       "    <tr>\n",
       "      <th>2</th>\n",
       "      <td>3</td>\n",
       "      <td>Yale University - MBA School</td>\n",
       "      <td>MBA</td>\n",
       "      <td>Oklahoma</td>\n",
       "      <td>331.0</td>\n",
       "      <td>86.0</td>\n",
       "      <td>2.71</td>\n",
       "      <td>4813</td>\n",
       "      <td>95.95</td>\n",
       "      <td>76884</td>\n",
       "      <td>...</td>\n",
       "      <td>Harding</td>\n",
       "      <td>steven.harding2@example.edu</td>\n",
       "      <td>(308)-709-8479</td>\n",
       "      <td>20-08-2000</td>\n",
       "      <td>Hernandez-Roberson</td>\n",
       "      <td>490781</td>\n",
       "      <td>2025</td>\n",
       "      <td>Museum/gallery curator Program</td>\n",
       "      <td>3</td>\n",
       "      <td>01-10-2025</td>\n",
       "    </tr>\n",
       "    <tr>\n",
       "      <th>3</th>\n",
       "      <td>4</td>\n",
       "      <td>Columbia University - Diploma School</td>\n",
       "      <td>Diploma</td>\n",
       "      <td>Oklahoma</td>\n",
       "      <td>316.0</td>\n",
       "      <td>113.0</td>\n",
       "      <td>2.52</td>\n",
       "      <td>35276</td>\n",
       "      <td>68.18</td>\n",
       "      <td>77522</td>\n",
       "      <td>...</td>\n",
       "      <td>Love</td>\n",
       "      <td>brianna.love3@example.edu</td>\n",
       "      <td>(483)-926-2897</td>\n",
       "      <td>30-01-1997</td>\n",
       "      <td>Gibson and Sons</td>\n",
       "      <td>655164</td>\n",
       "      <td>2015</td>\n",
       "      <td>Dancer Program</td>\n",
       "      <td>2</td>\n",
       "      <td>29-09-2025</td>\n",
       "    </tr>\n",
       "    <tr>\n",
       "      <th>4</th>\n",
       "      <td>5</td>\n",
       "      <td>California Institute of Technology - MBA School</td>\n",
       "      <td>MBA</td>\n",
       "      <td>North Carolina</td>\n",
       "      <td>302.0</td>\n",
       "      <td>95.0</td>\n",
       "      <td>3.46</td>\n",
       "      <td>86811</td>\n",
       "      <td>93.60</td>\n",
       "      <td>79694</td>\n",
       "      <td>...</td>\n",
       "      <td>Jones</td>\n",
       "      <td>kayla.jones4@example.edu</td>\n",
       "      <td>(427)-897-0089</td>\n",
       "      <td>09-04-2001</td>\n",
       "      <td>Hernandez Ltd</td>\n",
       "      <td>781768</td>\n",
       "      <td>2020</td>\n",
       "      <td>Sales professional, IT Program</td>\n",
       "      <td>5</td>\n",
       "      <td>10-05-2025</td>\n",
       "    </tr>\n",
       "  </tbody>\n",
       "</table>\n",
       "<p>5 rows × 22 columns</p>\n",
       "</div>"
      ],
      "text/plain": [
       "   University ID                                    University Name  \\\n",
       "0              1  University of California, Berkeley - Undergrad...   \n",
       "1              2              Princeton University - Diploma School   \n",
       "2              3                       Yale University - MBA School   \n",
       "3              4               Columbia University - Diploma School   \n",
       "4              5    California Institute of Technology - MBA School   \n",
       "\n",
       "    Program Type        Location GRE Score  TOEFL Score   GPA  Ranking  \\\n",
       "0  Undergraduate        Nebraska     298.0        110.0  2.72    97054   \n",
       "1        Diploma        Maryland     328.0        118.0  3.80    24489   \n",
       "2            MBA        Oklahoma     331.0         86.0  2.71     4813   \n",
       "3        Diploma        Oklahoma     316.0        113.0  2.52    35276   \n",
       "4            MBA  North Carolina     302.0         95.0  3.46    86811   \n",
       "\n",
       "   Placement Rate (%)  Tuition Fee (USD/year)  ...  Student Last Name  \\\n",
       "0               98.62                   68075  ...              Jones   \n",
       "1               65.59                   47834  ...          Mcfarland   \n",
       "2               95.95                   76884  ...            Harding   \n",
       "3               68.18                   77522  ...               Love   \n",
       "4               93.60                   79694  ...              Jones   \n",
       "\n",
       "                   Student Email           Phone Date of Birth  \\\n",
       "0     bradley.jones0@example.edu  (203)-744-2631    14-12-1989   \n",
       "1  kendra.mcfarland1@example.edu  (655)-615-0763    21-02-2004   \n",
       "2    steven.harding2@example.edu  (308)-709-8479    20-08-2000   \n",
       "3      brianna.love3@example.edu  (483)-926-2897    30-01-1997   \n",
       "4       kayla.jones4@example.edu  (427)-897-0089    09-04-2001   \n",
       "\n",
       "           Funding Source Funding Amount Funding Year  \\\n",
       "0  Martin, Silva and Reid         194621         2022   \n",
       "1            Wells-Warren         158259         2025   \n",
       "2      Hernandez-Roberson         490781         2025   \n",
       "3         Gibson and Sons         655164         2015   \n",
       "4           Hernandez Ltd         781768         2020   \n",
       "\n",
       "                                   Program Name  Program Duration (Years)  \\\n",
       "0                   Animal technologist Program                         5   \n",
       "1  International aid/development worker Program                         3   \n",
       "2                Museum/gallery curator Program                         3   \n",
       "3                                Dancer Program                         2   \n",
       "4                Sales professional, IT Program                         5   \n",
       "\n",
       "  Application Deadline  \n",
       "0           29-08-2025  \n",
       "1           17-09-2025  \n",
       "2           01-10-2025  \n",
       "3           29-09-2025  \n",
       "4           10-05-2025  \n",
       "\n",
       "[5 rows x 22 columns]"
      ]
     },
     "execution_count": 35,
     "metadata": {},
     "output_type": "execute_result"
    }
   ],
   "source": [
    "df = pd.read_csv(\"final_dataset_corrupt.csv\")\n",
    "df.head()"
   ]
  },
  {
   "cell_type": "code",
   "execution_count": 36,
   "id": "25bcb304-6a2d-4ce6-a464-842a61ea4eb6",
   "metadata": {},
   "outputs": [
    {
     "data": {
      "text/html": [
       "<pre style=\"white-space:pre;overflow-x:auto;line-height:normal;font-family:Menlo,'DejaVu Sans Mono',consolas,'Courier New',monospace\"><span style=\"color: #0000ff; text-decoration-color: #0000ff\">╭─────────────────────── </span><span style=\"color: #008000; text-decoration-color: #008000; font-weight: bold\">Dataset Information</span><span style=\"color: #0000ff; text-decoration-color: #0000ff\"> ───────────────────────╮</span>\n",
       "<span style=\"color: #0000ff; text-decoration-color: #0000ff\">│</span> <span style=\"font-weight: bold\">Dataset loaded successfully</span>                                       <span style=\"color: #0000ff; text-decoration-color: #0000ff\">│</span>\n",
       "<span style=\"color: #0000ff; text-decoration-color: #0000ff\">│</span>                                                                   <span style=\"color: #0000ff; text-decoration-color: #0000ff\">│</span>\n",
       "<span style=\"color: #0000ff; text-decoration-color: #0000ff\">│</span> • <span style=\"font-weight: bold\">Location:</span> final_dataset_corrupt.csv                             <span style=\"color: #0000ff; text-decoration-color: #0000ff\">│</span>\n",
       "<span style=\"color: #0000ff; text-decoration-color: #0000ff\">│</span> • <span style=\"font-weight: bold\">Shape:</span> 101000 rows × 22 columns                                 <span style=\"color: #0000ff; text-decoration-color: #0000ff\">│</span>\n",
       "<span style=\"color: #0000ff; text-decoration-color: #0000ff\">│</span> • <span style=\"font-weight: bold\">Memory usage:</span> 17359.50 KB                                       <span style=\"color: #0000ff; text-decoration-color: #0000ff\">│</span>\n",
       "<span style=\"color: #0000ff; text-decoration-color: #0000ff\">│</span> • <span style=\"font-weight: bold\">Tip:</span> Use horizontal scrolling (Shift+Wheel) to view all columns <span style=\"color: #0000ff; text-decoration-color: #0000ff\">│</span>\n",
       "<span style=\"color: #0000ff; text-decoration-color: #0000ff\">╰───────────────────────────────────────────────────────────────────╯</span>\n",
       "</pre>\n"
      ],
      "text/plain": [
       "\u001b[94m╭─\u001b[0m\u001b[94m──────────────────────\u001b[0m\u001b[94m \u001b[0m\u001b[1;32mDataset Information\u001b[0m\u001b[94m \u001b[0m\u001b[94m──────────────────────\u001b[0m\u001b[94m─╮\u001b[0m\n",
       "\u001b[94m│\u001b[0m \u001b[1mDataset loaded successfully\u001b[0m                                       \u001b[94m│\u001b[0m\n",
       "\u001b[94m│\u001b[0m                                                                   \u001b[94m│\u001b[0m\n",
       "\u001b[94m│\u001b[0m • \u001b[1mLocation:\u001b[0m final_dataset_corrupt.csv                             \u001b[94m│\u001b[0m\n",
       "\u001b[94m│\u001b[0m • \u001b[1mShape:\u001b[0m 101000 rows × 22 columns                                 \u001b[94m│\u001b[0m\n",
       "\u001b[94m│\u001b[0m • \u001b[1mMemory usage:\u001b[0m 17359.50 KB                                       \u001b[94m│\u001b[0m\n",
       "\u001b[94m│\u001b[0m • \u001b[1mTip:\u001b[0m Use horizontal scrolling (Shift+Wheel) to view all columns \u001b[94m│\u001b[0m\n",
       "\u001b[94m╰───────────────────────────────────────────────────────────────────╯\u001b[0m\n"
      ]
     },
     "metadata": {},
     "output_type": "display_data"
    },
    {
     "data": {
      "application/vnd.jupyter.widget-view+json": {
       "model_id": "a7a4e129547b4c3bb9b60664cfc0ae24",
       "version_major": 2,
       "version_minor": 0
      },
      "text/plain": [
       "Output()"
      ]
     },
     "metadata": {},
     "output_type": "display_data"
    },
    {
     "data": {
      "text/html": [
       "<pre style=\"white-space:pre;overflow-x:auto;line-height:normal;font-family:Menlo,'DejaVu Sans Mono',consolas,'Courier New',monospace\"></pre>\n"
      ],
      "text/plain": []
     },
     "metadata": {},
     "output_type": "display_data"
    }
   ],
   "source": [
    "# Set the file path to your dataset\n",
    "file_path = visualize_dataset(\"final_dataset_corrupt.csv\")\n"
   ]
  },
  {
   "cell_type": "code",
   "execution_count": 61,
   "id": "6116e453-82a8-47aa-b943-223adec4dc68",
   "metadata": {},
   "outputs": [
    {
     "data": {
      "text/html": [
       "<pre style=\"white-space:pre;overflow-x:auto;line-height:normal;font-family:Menlo,'DejaVu Sans Mono',consolas,'Courier New',monospace\">\n",
       "Column names:\n",
       "</pre>\n"
      ],
      "text/plain": [
       "\n",
       "Column names:\n"
      ]
     },
     "metadata": {},
     "output_type": "display_data"
    },
    {
     "data": {
      "text/html": [
       "<pre style=\"white-space:pre;overflow-x:auto;line-height:normal;font-family:Menlo,'DejaVu Sans Mono',consolas,'Courier New',monospace\"><span style=\"color: #800080; text-decoration-color: #800080; font-weight: bold\">Index</span><span style=\"font-weight: bold\">([</span><span style=\"color: #008000; text-decoration-color: #008000\">'University ID'</span>, <span style=\"color: #008000; text-decoration-color: #008000\">'University Name'</span>, <span style=\"color: #008000; text-decoration-color: #008000\">'Location'</span>, <span style=\"color: #008000; text-decoration-color: #008000\">'GRE Score'</span>,\n",
       "       <span style=\"color: #008000; text-decoration-color: #008000\">'TOEFL Score'</span>, <span style=\"color: #008000; text-decoration-color: #008000\">'GPA'</span>, <span style=\"color: #008000; text-decoration-color: #008000\">'Ranking'</span>, <span style=\"color: #008000; text-decoration-color: #008000\">'Placement Rate (%)'</span>,\n",
       "       <span style=\"color: #008000; text-decoration-color: #008000\">'Tuition Fee (USD/year)'</span>, <span style=\"color: #008000; text-decoration-color: #008000\">'Average Pay (USD/year)'</span>,\n",
       "       <span style=\"color: #008000; text-decoration-color: #008000\">'Student First Name'</span>, <span style=\"color: #008000; text-decoration-color: #008000\">'Student Last Name'</span>, <span style=\"color: #008000; text-decoration-color: #008000\">'Student Email'</span>, <span style=\"color: #008000; text-decoration-color: #008000\">'Phone'</span>,\n",
       "       <span style=\"color: #008000; text-decoration-color: #008000\">'Date of Birth'</span>, <span style=\"color: #008000; text-decoration-color: #008000\">'Funding Source'</span>, <span style=\"color: #008000; text-decoration-color: #008000\">'Funding Amount'</span>, <span style=\"color: #008000; text-decoration-color: #008000\">'Funding Year'</span>,\n",
       "       <span style=\"color: #008000; text-decoration-color: #008000\">'Program Name'</span>, <span style=\"color: #008000; text-decoration-color: #008000\">'Program Duration (Years)'</span>, <span style=\"color: #008000; text-decoration-color: #008000\">'Application Deadline'</span>,\n",
       "       <span style=\"color: #008000; text-decoration-color: #008000\">'Program Type_MBA'</span>, <span style=\"color: #008000; text-decoration-color: #008000\">'Program Type_MS'</span>, <span style=\"color: #008000; text-decoration-color: #008000\">'Program Type_PhD'</span>,\n",
       "       <span style=\"color: #008000; text-decoration-color: #008000\">'Program Type_Undergraduate'</span>, <span style=\"color: #008000; text-decoration-color: #008000\">'Location_encoded'</span>, <span style=\"color: #008000; text-decoration-color: #008000\">'GRE Score_encoded'</span>,\n",
       "       <span style=\"color: #008000; text-decoration-color: #008000\">'Phone_encoded'</span>, <span style=\"color: #008000; text-decoration-color: #008000\">'Date of Birth_encoded'</span>, <span style=\"color: #008000; text-decoration-color: #008000\">'Funding Source_encoded'</span>,\n",
       "       <span style=\"color: #008000; text-decoration-color: #008000\">'Program Name_encoded'</span>, <span style=\"color: #008000; text-decoration-color: #008000\">'Application Deadline_encoded'</span><span style=\"font-weight: bold\">]</span>,\n",
       "      <span style=\"color: #808000; text-decoration-color: #808000\">dtype</span>=<span style=\"color: #008000; text-decoration-color: #008000\">'object'</span><span style=\"font-weight: bold\">)</span>\n",
       "</pre>\n"
      ],
      "text/plain": [
       "\u001b[1;35mIndex\u001b[0m\u001b[1m(\u001b[0m\u001b[1m[\u001b[0m\u001b[32m'University ID'\u001b[0m, \u001b[32m'University Name'\u001b[0m, \u001b[32m'Location'\u001b[0m, \u001b[32m'GRE Score'\u001b[0m,\n",
       "       \u001b[32m'TOEFL Score'\u001b[0m, \u001b[32m'GPA'\u001b[0m, \u001b[32m'Ranking'\u001b[0m, \u001b[32m'Placement Rate \u001b[0m\u001b[32m(\u001b[0m\u001b[32m%\u001b[0m\u001b[32m)\u001b[0m\u001b[32m'\u001b[0m,\n",
       "       \u001b[32m'Tuition Fee \u001b[0m\u001b[32m(\u001b[0m\u001b[32mUSD/year\u001b[0m\u001b[32m)\u001b[0m\u001b[32m'\u001b[0m, \u001b[32m'Average Pay \u001b[0m\u001b[32m(\u001b[0m\u001b[32mUSD/year\u001b[0m\u001b[32m)\u001b[0m\u001b[32m'\u001b[0m,\n",
       "       \u001b[32m'Student First Name'\u001b[0m, \u001b[32m'Student Last Name'\u001b[0m, \u001b[32m'Student Email'\u001b[0m, \u001b[32m'Phone'\u001b[0m,\n",
       "       \u001b[32m'Date of Birth'\u001b[0m, \u001b[32m'Funding Source'\u001b[0m, \u001b[32m'Funding Amount'\u001b[0m, \u001b[32m'Funding Year'\u001b[0m,\n",
       "       \u001b[32m'Program Name'\u001b[0m, \u001b[32m'Program Duration \u001b[0m\u001b[32m(\u001b[0m\u001b[32mYears\u001b[0m\u001b[32m)\u001b[0m\u001b[32m'\u001b[0m, \u001b[32m'Application Deadline'\u001b[0m,\n",
       "       \u001b[32m'Program Type_MBA'\u001b[0m, \u001b[32m'Program Type_MS'\u001b[0m, \u001b[32m'Program Type_PhD'\u001b[0m,\n",
       "       \u001b[32m'Program Type_Undergraduate'\u001b[0m, \u001b[32m'Location_encoded'\u001b[0m, \u001b[32m'GRE Score_encoded'\u001b[0m,\n",
       "       \u001b[32m'Phone_encoded'\u001b[0m, \u001b[32m'Date of Birth_encoded'\u001b[0m, \u001b[32m'Funding Source_encoded'\u001b[0m,\n",
       "       \u001b[32m'Program Name_encoded'\u001b[0m, \u001b[32m'Application Deadline_encoded'\u001b[0m\u001b[1m]\u001b[0m,\n",
       "      \u001b[33mdtype\u001b[0m=\u001b[32m'object'\u001b[0m\u001b[1m)\u001b[0m\n"
      ]
     },
     "metadata": {},
     "output_type": "display_data"
    }
   ],
   "source": [
    " # Get column names\n",
    "print(\"\\nColumn names:\")\n",
    "column_names = df.columns\n",
    "print(column_names)"
   ]
  },
  {
   "cell_type": "code",
   "execution_count": 38,
   "id": "793ca8dc-176e-483c-8b2c-b0e232c786d2",
   "metadata": {},
   "outputs": [
    {
     "data": {
      "text/html": [
       "<pre style=\"white-space:pre;overflow-x:auto;line-height:normal;font-family:Menlo,'DejaVu Sans Mono',consolas,'Courier New',monospace\">\n",
       "Missing values summary:\n",
       "</pre>\n"
      ],
      "text/plain": [
       "\n",
       "Missing values summary:\n"
      ]
     },
     "metadata": {},
     "output_type": "display_data"
    },
    {
     "data": {
      "text/html": [
       "<div>\n",
       "<style scoped>\n",
       "    .dataframe tbody tr th:only-of-type {\n",
       "        vertical-align: middle;\n",
       "    }\n",
       "\n",
       "    .dataframe tbody tr th {\n",
       "        vertical-align: top;\n",
       "    }\n",
       "\n",
       "    .dataframe thead th {\n",
       "        text-align: right;\n",
       "    }\n",
       "</style>\n",
       "<table border=\"1\" class=\"dataframe\">\n",
       "  <thead>\n",
       "    <tr style=\"text-align: right;\">\n",
       "      <th></th>\n",
       "      <th>Column</th>\n",
       "      <th>Missing Values</th>\n",
       "      <th>Missing Percentage</th>\n",
       "    </tr>\n",
       "  </thead>\n",
       "  <tbody>\n",
       "    <tr>\n",
       "      <th>13</th>\n",
       "      <td>Student Email</td>\n",
       "      <td>3030</td>\n",
       "      <td>3.000000</td>\n",
       "    </tr>\n",
       "    <tr>\n",
       "      <th>6</th>\n",
       "      <td>GPA</td>\n",
       "      <td>3030</td>\n",
       "      <td>3.000000</td>\n",
       "    </tr>\n",
       "    <tr>\n",
       "      <th>5</th>\n",
       "      <td>TOEFL Score</td>\n",
       "      <td>3008</td>\n",
       "      <td>2.978218</td>\n",
       "    </tr>\n",
       "    <tr>\n",
       "      <th>4</th>\n",
       "      <td>GRE Score</td>\n",
       "      <td>2995</td>\n",
       "      <td>2.965347</td>\n",
       "    </tr>\n",
       "    <tr>\n",
       "      <th>14</th>\n",
       "      <td>Phone</td>\n",
       "      <td>2993</td>\n",
       "      <td>2.963366</td>\n",
       "    </tr>\n",
       "    <tr>\n",
       "      <th>0</th>\n",
       "      <td>University ID</td>\n",
       "      <td>0</td>\n",
       "      <td>0.000000</td>\n",
       "    </tr>\n",
       "    <tr>\n",
       "      <th>20</th>\n",
       "      <td>Program Duration (Years)</td>\n",
       "      <td>0</td>\n",
       "      <td>0.000000</td>\n",
       "    </tr>\n",
       "    <tr>\n",
       "      <th>19</th>\n",
       "      <td>Program Name</td>\n",
       "      <td>0</td>\n",
       "      <td>0.000000</td>\n",
       "    </tr>\n",
       "    <tr>\n",
       "      <th>18</th>\n",
       "      <td>Funding Year</td>\n",
       "      <td>0</td>\n",
       "      <td>0.000000</td>\n",
       "    </tr>\n",
       "    <tr>\n",
       "      <th>17</th>\n",
       "      <td>Funding Amount</td>\n",
       "      <td>0</td>\n",
       "      <td>0.000000</td>\n",
       "    </tr>\n",
       "    <tr>\n",
       "      <th>16</th>\n",
       "      <td>Funding Source</td>\n",
       "      <td>0</td>\n",
       "      <td>0.000000</td>\n",
       "    </tr>\n",
       "    <tr>\n",
       "      <th>15</th>\n",
       "      <td>Date of Birth</td>\n",
       "      <td>0</td>\n",
       "      <td>0.000000</td>\n",
       "    </tr>\n",
       "    <tr>\n",
       "      <th>11</th>\n",
       "      <td>Student First Name</td>\n",
       "      <td>0</td>\n",
       "      <td>0.000000</td>\n",
       "    </tr>\n",
       "    <tr>\n",
       "      <th>12</th>\n",
       "      <td>Student Last Name</td>\n",
       "      <td>0</td>\n",
       "      <td>0.000000</td>\n",
       "    </tr>\n",
       "    <tr>\n",
       "      <th>1</th>\n",
       "      <td>University Name</td>\n",
       "      <td>0</td>\n",
       "      <td>0.000000</td>\n",
       "    </tr>\n",
       "    <tr>\n",
       "      <th>10</th>\n",
       "      <td>Average Pay (USD/year)</td>\n",
       "      <td>0</td>\n",
       "      <td>0.000000</td>\n",
       "    </tr>\n",
       "    <tr>\n",
       "      <th>9</th>\n",
       "      <td>Tuition Fee (USD/year)</td>\n",
       "      <td>0</td>\n",
       "      <td>0.000000</td>\n",
       "    </tr>\n",
       "    <tr>\n",
       "      <th>8</th>\n",
       "      <td>Placement Rate (%)</td>\n",
       "      <td>0</td>\n",
       "      <td>0.000000</td>\n",
       "    </tr>\n",
       "    <tr>\n",
       "      <th>7</th>\n",
       "      <td>Ranking</td>\n",
       "      <td>0</td>\n",
       "      <td>0.000000</td>\n",
       "    </tr>\n",
       "    <tr>\n",
       "      <th>3</th>\n",
       "      <td>Location</td>\n",
       "      <td>0</td>\n",
       "      <td>0.000000</td>\n",
       "    </tr>\n",
       "    <tr>\n",
       "      <th>2</th>\n",
       "      <td>Program Type</td>\n",
       "      <td>0</td>\n",
       "      <td>0.000000</td>\n",
       "    </tr>\n",
       "    <tr>\n",
       "      <th>21</th>\n",
       "      <td>Application Deadline</td>\n",
       "      <td>0</td>\n",
       "      <td>0.000000</td>\n",
       "    </tr>\n",
       "  </tbody>\n",
       "</table>\n",
       "</div>"
      ],
      "text/plain": [
       "                      Column  Missing Values  Missing Percentage\n",
       "13             Student Email            3030            3.000000\n",
       "6                        GPA            3030            3.000000\n",
       "5                TOEFL Score            3008            2.978218\n",
       "4                  GRE Score            2995            2.965347\n",
       "14                     Phone            2993            2.963366\n",
       "0              University ID               0            0.000000\n",
       "20  Program Duration (Years)               0            0.000000\n",
       "19              Program Name               0            0.000000\n",
       "18              Funding Year               0            0.000000\n",
       "17            Funding Amount               0            0.000000\n",
       "16            Funding Source               0            0.000000\n",
       "15             Date of Birth               0            0.000000\n",
       "11        Student First Name               0            0.000000\n",
       "12         Student Last Name               0            0.000000\n",
       "1            University Name               0            0.000000\n",
       "10    Average Pay (USD/year)               0            0.000000\n",
       "9     Tuition Fee (USD/year)               0            0.000000\n",
       "8         Placement Rate (%)               0            0.000000\n",
       "7                    Ranking               0            0.000000\n",
       "3                   Location               0            0.000000\n",
       "2               Program Type               0            0.000000\n",
       "21      Application Deadline               0            0.000000"
      ]
     },
     "metadata": {},
     "output_type": "display_data"
    }
   ],
   "source": [
    "# Check missing values in a nicer format\n",
    "print(\"\\nMissing values summary:\")\n",
    "missing_values = df.isnull().sum().reset_index()\n",
    "missing_values.columns = ['Column', 'Missing Values']\n",
    "missing_values['Missing Percentage'] = (missing_values['Missing Values'] / len(df)) * 100\n",
    "missing_values = missing_values.sort_values('Missing Values', ascending=False)\n",
    "display(missing_values)"
   ]
  },
  {
   "cell_type": "code",
   "execution_count": 39,
   "id": "e097afe4-8149-4843-8254-45a684fb1877",
   "metadata": {},
   "outputs": [
    {
     "data": {
      "text/html": [
       "<pre style=\"white-space:pre;overflow-x:auto;line-height:normal;font-family:Menlo,'DejaVu Sans Mono',consolas,'Courier New',monospace\">\n",
       "Data types:\n",
       "</pre>\n"
      ],
      "text/plain": [
       "\n",
       "Data types:\n"
      ]
     },
     "metadata": {},
     "output_type": "display_data"
    },
    {
     "data": {
      "text/html": [
       "<pre style=\"white-space:pre;overflow-x:auto;line-height:normal;font-family:Menlo,'DejaVu Sans Mono',consolas,'Courier New',monospace\">University ID                 int64\n",
       "University Name              object\n",
       "Program Type                 object\n",
       "Location                     object\n",
       "GRE Score                    object\n",
       "TOEFL Score                 float64\n",
       "GPA                         float64\n",
       "Ranking                       int64\n",
       "Placement Rate <span style=\"font-weight: bold\">(</span>%<span style=\"font-weight: bold\">)</span>          float64\n",
       "Tuition Fee <span style=\"font-weight: bold\">(</span>USD/year<span style=\"font-weight: bold\">)</span>        int64\n",
       "Average Pay <span style=\"font-weight: bold\">(</span>USD/year<span style=\"font-weight: bold\">)</span>        int64\n",
       "Student First Name           object\n",
       "Student Last Name            object\n",
       "Student Email                object\n",
       "Phone                        object\n",
       "Date of Birth                object\n",
       "Funding Source               object\n",
       "Funding Amount                int64\n",
       "Funding Year                  int64\n",
       "Program Name                 object\n",
       "Program Duration <span style=\"font-weight: bold\">(</span>Years<span style=\"font-weight: bold\">)</span>      int64\n",
       "Application Deadline         object\n",
       "dtype: object\n",
       "</pre>\n"
      ],
      "text/plain": [
       "University ID                 int64\n",
       "University Name              object\n",
       "Program Type                 object\n",
       "Location                     object\n",
       "GRE Score                    object\n",
       "TOEFL Score                 float64\n",
       "GPA                         float64\n",
       "Ranking                       int64\n",
       "Placement Rate \u001b[1m(\u001b[0m%\u001b[1m)\u001b[0m          float64\n",
       "Tuition Fee \u001b[1m(\u001b[0mUSD/year\u001b[1m)\u001b[0m        int64\n",
       "Average Pay \u001b[1m(\u001b[0mUSD/year\u001b[1m)\u001b[0m        int64\n",
       "Student First Name           object\n",
       "Student Last Name            object\n",
       "Student Email                object\n",
       "Phone                        object\n",
       "Date of Birth                object\n",
       "Funding Source               object\n",
       "Funding Amount                int64\n",
       "Funding Year                  int64\n",
       "Program Name                 object\n",
       "Program Duration \u001b[1m(\u001b[0mYears\u001b[1m)\u001b[0m      int64\n",
       "Application Deadline         object\n",
       "dtype: object\n"
      ]
     },
     "metadata": {},
     "output_type": "display_data"
    }
   ],
   "source": [
    " # Get data types\n",
    "print(\"\\nData types:\")\n",
    "print(df.dtypes)"
   ]
  },
  {
   "cell_type": "code",
   "execution_count": 40,
   "id": "855ef2f3-b86c-4a92-823b-d4dc1808d55d",
   "metadata": {},
   "outputs": [
    {
     "data": {
      "text/html": [
       "<pre style=\"white-space:pre;overflow-x:auto;line-height:normal;font-family:Menlo,'DejaVu Sans Mono',consolas,'Courier New',monospace\">\n",
       "Summary statistics for numerical columns:\n",
       "</pre>\n"
      ],
      "text/plain": [
       "\n",
       "Summary statistics for numerical columns:\n"
      ]
     },
     "metadata": {},
     "output_type": "display_data"
    },
    {
     "data": {
      "text/html": [
       "<div>\n",
       "<style scoped>\n",
       "    .dataframe tbody tr th:only-of-type {\n",
       "        vertical-align: middle;\n",
       "    }\n",
       "\n",
       "    .dataframe tbody tr th {\n",
       "        vertical-align: top;\n",
       "    }\n",
       "\n",
       "    .dataframe thead th {\n",
       "        text-align: right;\n",
       "    }\n",
       "</style>\n",
       "<table border=\"1\" class=\"dataframe\">\n",
       "  <thead>\n",
       "    <tr style=\"text-align: right;\">\n",
       "      <th></th>\n",
       "      <th>University ID</th>\n",
       "      <th>TOEFL Score</th>\n",
       "      <th>GPA</th>\n",
       "      <th>Ranking</th>\n",
       "      <th>Placement Rate (%)</th>\n",
       "      <th>Tuition Fee (USD/year)</th>\n",
       "      <th>Average Pay (USD/year)</th>\n",
       "      <th>Funding Amount</th>\n",
       "      <th>Funding Year</th>\n",
       "      <th>Program Duration (Years)</th>\n",
       "    </tr>\n",
       "  </thead>\n",
       "  <tbody>\n",
       "    <tr>\n",
       "      <th>count</th>\n",
       "      <td>101000.000000</td>\n",
       "      <td>97992.000000</td>\n",
       "      <td>97970.000000</td>\n",
       "      <td>101000.000000</td>\n",
       "      <td>101000.000000</td>\n",
       "      <td>101000.000000</td>\n",
       "      <td>101000.000000</td>\n",
       "      <td>101000.000000</td>\n",
       "      <td>101000.000000</td>\n",
       "      <td>101000.000000</td>\n",
       "    </tr>\n",
       "    <tr>\n",
       "      <th>mean</th>\n",
       "      <td>50500.500000</td>\n",
       "      <td>98.954068</td>\n",
       "      <td>2.997546</td>\n",
       "      <td>50500.500000</td>\n",
       "      <td>80.011989</td>\n",
       "      <td>52494.002238</td>\n",
       "      <td>124908.369228</td>\n",
       "      <td>504473.167980</td>\n",
       "      <td>2020.000703</td>\n",
       "      <td>2.998663</td>\n",
       "    </tr>\n",
       "    <tr>\n",
       "      <th>std</th>\n",
       "      <td>29156.332931</td>\n",
       "      <td>15.571199</td>\n",
       "      <td>0.577345</td>\n",
       "      <td>29156.332931</td>\n",
       "      <td>11.542622</td>\n",
       "      <td>21699.635339</td>\n",
       "      <td>43250.654796</td>\n",
       "      <td>286482.632235</td>\n",
       "      <td>3.166253</td>\n",
       "      <td>1.416693</td>\n",
       "    </tr>\n",
       "    <tr>\n",
       "      <th>min</th>\n",
       "      <td>1.000000</td>\n",
       "      <td>-1.000000</td>\n",
       "      <td>2.000000</td>\n",
       "      <td>1.000000</td>\n",
       "      <td>60.000000</td>\n",
       "      <td>15000.000000</td>\n",
       "      <td>50001.000000</td>\n",
       "      <td>10001.000000</td>\n",
       "      <td>2015.000000</td>\n",
       "      <td>1.000000</td>\n",
       "    </tr>\n",
       "    <tr>\n",
       "      <th>25%</th>\n",
       "      <td>25250.750000</td>\n",
       "      <td>89.000000</td>\n",
       "      <td>2.500000</td>\n",
       "      <td>25250.750000</td>\n",
       "      <td>70.050000</td>\n",
       "      <td>33610.000000</td>\n",
       "      <td>87499.750000</td>\n",
       "      <td>255296.000000</td>\n",
       "      <td>2017.000000</td>\n",
       "      <td>2.000000</td>\n",
       "    </tr>\n",
       "    <tr>\n",
       "      <th>50%</th>\n",
       "      <td>50500.500000</td>\n",
       "      <td>100.000000</td>\n",
       "      <td>3.000000</td>\n",
       "      <td>50500.500000</td>\n",
       "      <td>80.000000</td>\n",
       "      <td>52521.000000</td>\n",
       "      <td>124916.500000</td>\n",
       "      <td>504172.000000</td>\n",
       "      <td>2020.000000</td>\n",
       "      <td>3.000000</td>\n",
       "    </tr>\n",
       "    <tr>\n",
       "      <th>75%</th>\n",
       "      <td>75750.250000</td>\n",
       "      <td>110.000000</td>\n",
       "      <td>3.500000</td>\n",
       "      <td>75750.250000</td>\n",
       "      <td>90.000000</td>\n",
       "      <td>71374.250000</td>\n",
       "      <td>162326.250000</td>\n",
       "      <td>753791.750000</td>\n",
       "      <td>2023.000000</td>\n",
       "      <td>4.000000</td>\n",
       "    </tr>\n",
       "    <tr>\n",
       "      <th>max</th>\n",
       "      <td>101000.000000</td>\n",
       "      <td>120.000000</td>\n",
       "      <td>4.000000</td>\n",
       "      <td>101000.000000</td>\n",
       "      <td>100.000000</td>\n",
       "      <td>90000.000000</td>\n",
       "      <td>199997.000000</td>\n",
       "      <td>999959.000000</td>\n",
       "      <td>2025.000000</td>\n",
       "      <td>5.000000</td>\n",
       "    </tr>\n",
       "  </tbody>\n",
       "</table>\n",
       "</div>"
      ],
      "text/plain": [
       "       University ID   TOEFL Score           GPA        Ranking  \\\n",
       "count  101000.000000  97992.000000  97970.000000  101000.000000   \n",
       "mean    50500.500000     98.954068      2.997546   50500.500000   \n",
       "std     29156.332931     15.571199      0.577345   29156.332931   \n",
       "min         1.000000     -1.000000      2.000000       1.000000   \n",
       "25%     25250.750000     89.000000      2.500000   25250.750000   \n",
       "50%     50500.500000    100.000000      3.000000   50500.500000   \n",
       "75%     75750.250000    110.000000      3.500000   75750.250000   \n",
       "max    101000.000000    120.000000      4.000000  101000.000000   \n",
       "\n",
       "       Placement Rate (%)  Tuition Fee (USD/year)  Average Pay (USD/year)  \\\n",
       "count       101000.000000           101000.000000           101000.000000   \n",
       "mean            80.011989            52494.002238           124908.369228   \n",
       "std             11.542622            21699.635339            43250.654796   \n",
       "min             60.000000            15000.000000            50001.000000   \n",
       "25%             70.050000            33610.000000            87499.750000   \n",
       "50%             80.000000            52521.000000           124916.500000   \n",
       "75%             90.000000            71374.250000           162326.250000   \n",
       "max            100.000000            90000.000000           199997.000000   \n",
       "\n",
       "       Funding Amount   Funding Year  Program Duration (Years)  \n",
       "count   101000.000000  101000.000000             101000.000000  \n",
       "mean    504473.167980    2020.000703                  2.998663  \n",
       "std     286482.632235       3.166253                  1.416693  \n",
       "min      10001.000000    2015.000000                  1.000000  \n",
       "25%     255296.000000    2017.000000                  2.000000  \n",
       "50%     504172.000000    2020.000000                  3.000000  \n",
       "75%     753791.750000    2023.000000                  4.000000  \n",
       "max     999959.000000    2025.000000                  5.000000  "
      ]
     },
     "metadata": {},
     "output_type": "display_data"
    }
   ],
   "source": [
    " # Get basic statistics for numerical columns\n",
    "print(\"\\nSummary statistics for numerical columns:\")\n",
    "display(df.describe())"
   ]
  },
  {
   "cell_type": "code",
   "execution_count": 41,
   "id": "9f2d830e-11cc-4b1a-8a9d-e2457e366f91",
   "metadata": {},
   "outputs": [
    {
     "data": {
      "text/html": [
       "<pre style=\"white-space:pre;overflow-x:auto;line-height:normal;font-family:Menlo,'DejaVu Sans Mono',consolas,'Courier New',monospace\">\n",
       "Sample value counts for categorical columns:\n",
       "</pre>\n"
      ],
      "text/plain": [
       "\n",
       "Sample value counts for categorical columns:\n"
      ]
     },
     "metadata": {},
     "output_type": "display_data"
    },
    {
     "data": {
      "text/html": [
       "<pre style=\"white-space:pre;overflow-x:auto;line-height:normal;font-family:Menlo,'DejaVu Sans Mono',consolas,'Courier New',monospace\">\n",
       "Value counts for University Name:\n",
       "</pre>\n"
      ],
      "text/plain": [
       "\n",
       "Value counts for University Name:\n"
      ]
     },
     "metadata": {},
     "output_type": "display_data"
    },
    {
     "data": {
      "text/plain": [
       "University Name\n",
       "Stanford University - PhD School                       2158\n",
       "Massachusetts Institute of Technology - MS School      2128\n",
       "Princeton University - Undergraduate School            2114\n",
       "University of Pennsylvania - Diploma School            2090\n",
       "University of California, Berkeley - Diploma School    2085\n",
       "Name: count, dtype: int64"
      ]
     },
     "metadata": {},
     "output_type": "display_data"
    },
    {
     "data": {
      "text/html": [
       "<pre style=\"white-space:pre;overflow-x:auto;line-height:normal;font-family:Menlo,'DejaVu Sans Mono',consolas,'Courier New',monospace\">\n",
       "Value counts for Program Type:\n",
       "</pre>\n"
      ],
      "text/plain": [
       "\n",
       "Value counts for Program Type:\n"
      ]
     },
     "metadata": {},
     "output_type": "display_data"
    },
    {
     "data": {
      "text/plain": [
       "Program Type\n",
       "MS               20341\n",
       "Diploma          20276\n",
       "PhD              20246\n",
       "MBA              20073\n",
       "Undergraduate    20064\n",
       "Name: count, dtype: int64"
      ]
     },
     "metadata": {},
     "output_type": "display_data"
    },
    {
     "data": {
      "text/html": [
       "<pre style=\"white-space:pre;overflow-x:auto;line-height:normal;font-family:Menlo,'DejaVu Sans Mono',consolas,'Courier New',monospace\">\n",
       "Value counts for Location:\n",
       "</pre>\n"
      ],
      "text/plain": [
       "\n",
       "Value counts for Location:\n"
      ]
     },
     "metadata": {},
     "output_type": "display_data"
    },
    {
     "data": {
      "text/plain": [
       "Location\n",
       "Connecticut    6155\n",
       "New Mexico     6151\n",
       "Kentucky       5986\n",
       "Oklahoma       5979\n",
       "Indiana        4096\n",
       "Name: count, dtype: int64"
      ]
     },
     "metadata": {},
     "output_type": "display_data"
    }
   ],
   "source": [
    "# Get value counts for categorical columns (first few)\n",
    "print(\"\\nSample value counts for categorical columns:\")\n",
    "categorical_columns = df.select_dtypes(include=['object']).columns\n",
    "for col in categorical_columns[:3]:  # Show first 3 categorical columns\n",
    "    print(f\"\\nValue counts for {col}:\")\n",
    "    display(df[col].value_counts().head())\n"
   ]
  },
  {
   "cell_type": "markdown",
   "id": "1792996f-7a79-4490-b942-61c5936bbba9",
   "metadata": {},
   "source": [
    "# DATA PREPROCESSING\n"
   ]
  },
  {
   "cell_type": "markdown",
   "id": "a0f705ca-fbeb-4af3-85d0-296bd8f10b00",
   "metadata": {},
   "source": [
    "## Step 2: Data Preprocessing - \n",
    "### 1. Handle missing values\n",
    "### 2. Check data types and convert if necessary\n",
    "### 3. Feature normalization (for numerical features)\n",
    "### 4. Encode categorical variables"
   ]
  },
  {
   "cell_type": "code",
   "execution_count": 42,
   "id": "6ef67f54-643e-43c4-b42b-b956a698eae6",
   "metadata": {},
   "outputs": [
    {
     "data": {
      "text/html": [
       "<pre style=\"white-space:pre;overflow-x:auto;line-height:normal;font-family:Menlo,'DejaVu Sans Mono',consolas,'Courier New',monospace\">Handling missing values<span style=\"color: #808000; text-decoration-color: #808000\">...</span>\n",
       "</pre>\n"
      ],
      "text/plain": [
       "Handling missing values\u001b[33m...\u001b[0m\n"
      ]
     },
     "metadata": {},
     "output_type": "display_data"
    },
    {
     "data": {
      "text/html": [
       "<pre style=\"white-space:pre;overflow-x:auto;line-height:normal;font-family:Menlo,'DejaVu Sans Mono',consolas,'Courier New',monospace\">Filled missing values in TOEFL Score with median: <span style=\"color: #008080; text-decoration-color: #008080; font-weight: bold\">100.0</span>\n",
       "</pre>\n"
      ],
      "text/plain": [
       "Filled missing values in TOEFL Score with median: \u001b[1;36m100.0\u001b[0m\n"
      ]
     },
     "metadata": {},
     "output_type": "display_data"
    },
    {
     "data": {
      "text/html": [
       "<pre style=\"white-space:pre;overflow-x:auto;line-height:normal;font-family:Menlo,'DejaVu Sans Mono',consolas,'Courier New',monospace\">Filled missing values in GPA with median: <span style=\"color: #008080; text-decoration-color: #008080; font-weight: bold\">3.0</span>\n",
       "</pre>\n"
      ],
      "text/plain": [
       "Filled missing values in GPA with median: \u001b[1;36m3.0\u001b[0m\n"
      ]
     },
     "metadata": {},
     "output_type": "display_data"
    },
    {
     "data": {
      "text/html": [
       "<pre style=\"white-space:pre;overflow-x:auto;line-height:normal;font-family:Menlo,'DejaVu Sans Mono',consolas,'Courier New',monospace\">Filled missing values in GRE Score with mode: <span style=\"color: #008080; text-decoration-color: #008080; font-weight: bold\">277.0</span>\n",
       "</pre>\n"
      ],
      "text/plain": [
       "Filled missing values in GRE Score with mode: \u001b[1;36m277.0\u001b[0m\n"
      ]
     },
     "metadata": {},
     "output_type": "display_data"
    },
    {
     "data": {
      "text/html": [
       "<pre style=\"white-space:pre;overflow-x:auto;line-height:normal;font-family:Menlo,'DejaVu Sans Mono',consolas,'Courier New',monospace\">Filled missing values in Student Email with mode: aaron.adkins5485@example.edu\n",
       "</pre>\n"
      ],
      "text/plain": [
       "Filled missing values in Student Email with mode: aaron.adkins5485@example.edu\n"
      ]
     },
     "metadata": {},
     "output_type": "display_data"
    },
    {
     "data": {
      "text/html": [
       "<pre style=\"white-space:pre;overflow-x:auto;line-height:normal;font-family:Menlo,'DejaVu Sans Mono',consolas,'Courier New',monospace\">Filled missing values in Phone with mode: <span style=\"color: #008080; text-decoration-color: #008080; font-weight: bold\">123456</span>\n",
       "</pre>\n"
      ],
      "text/plain": [
       "Filled missing values in Phone with mode: \u001b[1;36m123456\u001b[0m\n"
      ]
     },
     "metadata": {},
     "output_type": "display_data"
    }
   ],
   "source": [
    "# Step 2: Data Preprocessing\n",
    "\n",
    "# 2.1 Handle missing values\n",
    "print(\"Handling missing values...\")\n",
    "\n",
    "# For numerical columns, fill missing values with median (more robust than mean for potentially skewed data)\n",
    "numerical_cols = df.select_dtypes(include=['int64', 'float64']).columns\n",
    "for col in numerical_cols:\n",
    "    if df[col].isnull().sum() > 0:\n",
    "        median_value = df[col].median()\n",
    "        df[col] = df[col].fillna(median_value)\n",
    "        print(f\"Filled missing values in {col} with median: {median_value}\")\n",
    "\n",
    "# For categorical columns, fill missing values with mode (most frequent value)\n",
    "categorical_cols = df.select_dtypes(include=['object']).columns\n",
    "for col in categorical_cols:\n",
    "    if df[col].isnull().sum() > 0:\n",
    "        mode_value = df[col].mode()[0]\n",
    "        df[col] = df[col].fillna(mode_value)\n",
    "        print(f\"Filled missing values in {col} with mode: {mode_value}\")\n",
    "\n",
    "\n",
    "\n"
   ]
  },
  {
   "cell_type": "code",
   "execution_count": 43,
   "id": "22aa85ee-c724-4b4c-9a3f-8d5e5de3ec87",
   "metadata": {},
   "outputs": [
    {
     "data": {
      "text/html": [
       "<pre style=\"white-space:pre;overflow-x:auto;line-height:normal;font-family:Menlo,'DejaVu Sans Mono',consolas,'Courier New',monospace\">\n",
       "Checking and converting data types<span style=\"color: #808000; text-decoration-color: #808000\">...</span>\n",
       "</pre>\n"
      ],
      "text/plain": [
       "\n",
       "Checking and converting data types\u001b[33m...\u001b[0m\n"
      ]
     },
     "metadata": {},
     "output_type": "display_data"
    },
    {
     "data": {
      "text/html": [
       "<pre style=\"white-space:pre;overflow-x:auto;line-height:normal;font-family:Menlo,'DejaVu Sans Mono',consolas,'Courier New',monospace\">Converted <span style=\"color: #008000; text-decoration-color: #008000\">'GRE Score'</span> to numeric\n",
       "</pre>\n"
      ],
      "text/plain": [
       "Converted \u001b[32m'GRE Score'\u001b[0m to numeric\n"
      ]
     },
     "metadata": {},
     "output_type": "display_data"
    },
    {
     "name": "stderr",
     "output_type": "stream",
     "text": [
      "/var/folders/dw/fn12lc3x2b317ydc5b70v2340000gn/T/ipykernel_22590/347281032.py:13: UserWarning: Parsing dates in %d-%m-%Y format when dayfirst=False (the default) was specified. Pass `dayfirst=True` or specify a format to silence this warning.\n",
      "  df['Date of Birth'] = pd.to_datetime(df['Date of Birth'], errors='coerce')\n"
     ]
    },
    {
     "data": {
      "text/html": [
       "<pre style=\"white-space:pre;overflow-x:auto;line-height:normal;font-family:Menlo,'DejaVu Sans Mono',consolas,'Courier New',monospace\">Converted <span style=\"color: #008000; text-decoration-color: #008000\">'Date of Birth'</span> to datetime\n",
       "</pre>\n"
      ],
      "text/plain": [
       "Converted \u001b[32m'Date of Birth'\u001b[0m to datetime\n"
      ]
     },
     "metadata": {},
     "output_type": "display_data"
    }
   ],
   "source": [
    "# 2.2 Check data types and convert if necessary\n",
    "print(\"\\nChecking and converting data types...\")\n",
    "\n",
    "# Convert 'GRE Score' to numeric if it's not already\n",
    "if 'GRE Score' in df.columns and df['GRE Score'].dtype == 'object':\n",
    "    df['GRE Score'] = pd.to_numeric(df['GRE Score'], errors='coerce')\n",
    "    # Fill newly created NaNs (from conversion errors)\n",
    "    df['GRE Score'] = df['GRE Score'].fillna(df['GRE Score'].median())\n",
    "    print(\"Converted 'GRE Score' to numeric\")\n",
    "\n",
    "# Convert 'Date of Birth' to datetime\n",
    "if 'Date of Birth' in df.columns:\n",
    "    df['Date of Birth'] = pd.to_datetime(df['Date of Birth'], errors='coerce')\n",
    "    print(\"Converted 'Date of Birth' to datetime\")"
   ]
  },
  {
   "cell_type": "code",
   "execution_count": 44,
   "id": "5db5ee6b-23a1-4176-88d8-ba42a1745908",
   "metadata": {},
   "outputs": [
    {
     "data": {
      "text/html": [
       "<pre style=\"white-space:pre;overflow-x:auto;line-height:normal;font-family:Menlo,'DejaVu Sans Mono',consolas,'Courier New',monospace\">\n",
       "Normalizing numerical features<span style=\"color: #808000; text-decoration-color: #808000\">...</span>\n",
       "</pre>\n"
      ],
      "text/plain": [
       "\n",
       "Normalizing numerical features\u001b[33m...\u001b[0m\n"
      ]
     },
     "metadata": {},
     "output_type": "display_data"
    },
    {
     "data": {
      "text/html": [
       "<pre style=\"white-space:pre;overflow-x:auto;line-height:normal;font-family:Menlo,'DejaVu Sans Mono',consolas,'Courier New',monospace\">Normalized GRE Score\n",
       "</pre>\n"
      ],
      "text/plain": [
       "Normalized GRE Score\n"
      ]
     },
     "metadata": {},
     "output_type": "display_data"
    },
    {
     "data": {
      "text/html": [
       "<pre style=\"white-space:pre;overflow-x:auto;line-height:normal;font-family:Menlo,'DejaVu Sans Mono',consolas,'Courier New',monospace\">Normalized TOEFL Score\n",
       "</pre>\n"
      ],
      "text/plain": [
       "Normalized TOEFL Score\n"
      ]
     },
     "metadata": {},
     "output_type": "display_data"
    },
    {
     "data": {
      "text/html": [
       "<pre style=\"white-space:pre;overflow-x:auto;line-height:normal;font-family:Menlo,'DejaVu Sans Mono',consolas,'Courier New',monospace\">Normalized GPA\n",
       "</pre>\n"
      ],
      "text/plain": [
       "Normalized GPA\n"
      ]
     },
     "metadata": {},
     "output_type": "display_data"
    },
    {
     "data": {
      "text/html": [
       "<pre style=\"white-space:pre;overflow-x:auto;line-height:normal;font-family:Menlo,'DejaVu Sans Mono',consolas,'Courier New',monospace\">Normalized Ranking\n",
       "</pre>\n"
      ],
      "text/plain": [
       "Normalized Ranking\n"
      ]
     },
     "metadata": {},
     "output_type": "display_data"
    },
    {
     "data": {
      "text/html": [
       "<pre style=\"white-space:pre;overflow-x:auto;line-height:normal;font-family:Menlo,'DejaVu Sans Mono',consolas,'Courier New',monospace\">Normalized Placement Rate <span style=\"font-weight: bold\">(</span>%<span style=\"font-weight: bold\">)</span>\n",
       "</pre>\n"
      ],
      "text/plain": [
       "Normalized Placement Rate \u001b[1m(\u001b[0m%\u001b[1m)\u001b[0m\n"
      ]
     },
     "metadata": {},
     "output_type": "display_data"
    },
    {
     "data": {
      "text/html": [
       "<pre style=\"white-space:pre;overflow-x:auto;line-height:normal;font-family:Menlo,'DejaVu Sans Mono',consolas,'Courier New',monospace\">Normalized Tuition Fee <span style=\"font-weight: bold\">(</span>USD/year<span style=\"font-weight: bold\">)</span>\n",
       "</pre>\n"
      ],
      "text/plain": [
       "Normalized Tuition Fee \u001b[1m(\u001b[0mUSD/year\u001b[1m)\u001b[0m\n"
      ]
     },
     "metadata": {},
     "output_type": "display_data"
    },
    {
     "data": {
      "text/html": [
       "<pre style=\"white-space:pre;overflow-x:auto;line-height:normal;font-family:Menlo,'DejaVu Sans Mono',consolas,'Courier New',monospace\">Normalized Average Pay <span style=\"font-weight: bold\">(</span>USD/year<span style=\"font-weight: bold\">)</span>\n",
       "</pre>\n"
      ],
      "text/plain": [
       "Normalized Average Pay \u001b[1m(\u001b[0mUSD/year\u001b[1m)\u001b[0m\n"
      ]
     },
     "metadata": {},
     "output_type": "display_data"
    }
   ],
   "source": [
    "# 2.3 Feature normalization (for numerical features)\n",
    "print(\"\\nNormalizing numerical features...\")\n",
    "\n",
    "# Select columns to normalize (exclude ID columns and dates)\n",
    "cols_to_normalize = ['GRE Score', 'TOEFL Score', 'GPA', 'Ranking', \n",
    "                    'Placement Rate (%)', 'Tuition Fee (USD/year)', \n",
    "                    'Average Pay (USD/year)']\n",
    "\n",
    "# Check if columns exist\n",
    "cols_to_normalize = [col for col in cols_to_normalize if col in df.columns]\n",
    "\n",
    "# Apply Min-Max scaling\n",
    "for col in cols_to_normalize:\n",
    "    min_val = df[col].min()\n",
    "    max_val = df[col].max()\n",
    "    df[col] = (df[col] - min_val) / (max_val - min_val)\n",
    "    print(f\"Normalized {col}\")\n"
   ]
  },
  {
   "cell_type": "code",
   "execution_count": 45,
   "id": "0608462d-7642-4b6d-86e7-8013831bfa70",
   "metadata": {},
   "outputs": [
    {
     "data": {
      "text/html": [
       "<pre style=\"white-space:pre;overflow-x:auto;line-height:normal;font-family:Menlo,'DejaVu Sans Mono',consolas,'Courier New',monospace\">\n",
       "Encoding categorical variables <span style=\"font-weight: bold\">(</span>memory-efficient approach<span style=\"font-weight: bold\">)</span><span style=\"color: #808000; text-decoration-color: #808000\">...</span>\n",
       "</pre>\n"
      ],
      "text/plain": [
       "\n",
       "Encoding categorical variables \u001b[1m(\u001b[0mmemory-efficient approach\u001b[1m)\u001b[0m\u001b[33m...\u001b[0m\n"
      ]
     },
     "metadata": {},
     "output_type": "display_data"
    },
    {
     "data": {
      "text/html": [
       "<pre style=\"white-space:pre;overflow-x:auto;line-height:normal;font-family:Menlo,'DejaVu Sans Mono',consolas,'Courier New',monospace\">\n",
       "Unique values in categorical columns:\n",
       "</pre>\n"
      ],
      "text/plain": [
       "\n",
       "Unique values in categorical columns:\n"
      ]
     },
     "metadata": {},
     "output_type": "display_data"
    },
    {
     "data": {
      "text/html": [
       "<pre style=\"white-space:pre;overflow-x:auto;line-height:normal;font-family:Menlo,'DejaVu Sans Mono',consolas,'Courier New',monospace\">University Name: <span style=\"color: #008080; text-decoration-color: #008080; font-weight: bold\">50</span> unique values\n",
       "</pre>\n"
      ],
      "text/plain": [
       "University Name: \u001b[1;36m50\u001b[0m unique values\n"
      ]
     },
     "metadata": {},
     "output_type": "display_data"
    },
    {
     "data": {
      "text/html": [
       "<pre style=\"white-space:pre;overflow-x:auto;line-height:normal;font-family:Menlo,'DejaVu Sans Mono',consolas,'Courier New',monospace\">Program Type: <span style=\"color: #008080; text-decoration-color: #008080; font-weight: bold\">5</span> unique values\n",
       "</pre>\n"
      ],
      "text/plain": [
       "Program Type: \u001b[1;36m5\u001b[0m unique values\n"
      ]
     },
     "metadata": {},
     "output_type": "display_data"
    },
    {
     "data": {
      "text/html": [
       "<pre style=\"white-space:pre;overflow-x:auto;line-height:normal;font-family:Menlo,'DejaVu Sans Mono',consolas,'Courier New',monospace\">Location: <span style=\"color: #008080; text-decoration-color: #008080; font-weight: bold\">34</span> unique values\n",
       "</pre>\n"
      ],
      "text/plain": [
       "Location: \u001b[1;36m34\u001b[0m unique values\n"
      ]
     },
     "metadata": {},
     "output_type": "display_data"
    },
    {
     "data": {
      "text/html": [
       "<pre style=\"white-space:pre;overflow-x:auto;line-height:normal;font-family:Menlo,'DejaVu Sans Mono',consolas,'Courier New',monospace\">GRE Score: <span style=\"color: #008080; text-decoration-color: #008080; font-weight: bold\">81</span> unique values\n",
       "</pre>\n"
      ],
      "text/plain": [
       "GRE Score: \u001b[1;36m81\u001b[0m unique values\n"
      ]
     },
     "metadata": {},
     "output_type": "display_data"
    },
    {
     "data": {
      "text/html": [
       "<pre style=\"white-space:pre;overflow-x:auto;line-height:normal;font-family:Menlo,'DejaVu Sans Mono',consolas,'Courier New',monospace\">Student First Name: <span style=\"color: #008080; text-decoration-color: #008080; font-weight: bold\">690</span> unique values\n",
       "</pre>\n"
      ],
      "text/plain": [
       "Student First Name: \u001b[1;36m690\u001b[0m unique values\n"
      ]
     },
     "metadata": {},
     "output_type": "display_data"
    },
    {
     "data": {
      "text/html": [
       "<pre style=\"white-space:pre;overflow-x:auto;line-height:normal;font-family:Menlo,'DejaVu Sans Mono',consolas,'Courier New',monospace\">Student Last Name: <span style=\"color: #008080; text-decoration-color: #008080; font-weight: bold\">1000</span> unique values\n",
       "</pre>\n"
      ],
      "text/plain": [
       "Student Last Name: \u001b[1;36m1000\u001b[0m unique values\n"
      ]
     },
     "metadata": {},
     "output_type": "display_data"
    },
    {
     "data": {
      "text/html": [
       "<pre style=\"white-space:pre;overflow-x:auto;line-height:normal;font-family:Menlo,'DejaVu Sans Mono',consolas,'Courier New',monospace\">Student Email: <span style=\"color: #008080; text-decoration-color: #008080; font-weight: bold\">97970</span> unique values\n",
       "</pre>\n"
      ],
      "text/plain": [
       "Student Email: \u001b[1;36m97970\u001b[0m unique values\n"
      ]
     },
     "metadata": {},
     "output_type": "display_data"
    },
    {
     "data": {
      "text/html": [
       "<pre style=\"white-space:pre;overflow-x:auto;line-height:normal;font-family:Menlo,'DejaVu Sans Mono',consolas,'Courier New',monospace\">Phone: <span style=\"color: #008080; text-decoration-color: #008080; font-weight: bold\">96998</span> unique values\n",
       "</pre>\n"
      ],
      "text/plain": [
       "Phone: \u001b[1;36m96998\u001b[0m unique values\n"
      ]
     },
     "metadata": {},
     "output_type": "display_data"
    },
    {
     "data": {
      "text/html": [
       "<pre style=\"white-space:pre;overflow-x:auto;line-height:normal;font-family:Menlo,'DejaVu Sans Mono',consolas,'Courier New',monospace\">Date of Birth: <span style=\"color: #008080; text-decoration-color: #008080; font-weight: bold\">5843</span> unique values\n",
       "</pre>\n"
      ],
      "text/plain": [
       "Date of Birth: \u001b[1;36m5843\u001b[0m unique values\n"
      ]
     },
     "metadata": {},
     "output_type": "display_data"
    },
    {
     "data": {
      "text/html": [
       "<pre style=\"white-space:pre;overflow-x:auto;line-height:normal;font-family:Menlo,'DejaVu Sans Mono',consolas,'Courier New',monospace\">Funding Source: <span style=\"color: #008080; text-decoration-color: #008080; font-weight: bold\">45739</span> unique values\n",
       "</pre>\n"
      ],
      "text/plain": [
       "Funding Source: \u001b[1;36m45739\u001b[0m unique values\n"
      ]
     },
     "metadata": {},
     "output_type": "display_data"
    },
    {
     "data": {
      "text/html": [
       "<pre style=\"white-space:pre;overflow-x:auto;line-height:normal;font-family:Menlo,'DejaVu Sans Mono',consolas,'Courier New',monospace\">Program Name: <span style=\"color: #008080; text-decoration-color: #008080; font-weight: bold\">639</span> unique values\n",
       "</pre>\n"
      ],
      "text/plain": [
       "Program Name: \u001b[1;36m639\u001b[0m unique values\n"
      ]
     },
     "metadata": {},
     "output_type": "display_data"
    },
    {
     "data": {
      "text/html": [
       "<pre style=\"white-space:pre;overflow-x:auto;line-height:normal;font-family:Menlo,'DejaVu Sans Mono',consolas,'Courier New',monospace\">Application Deadline: <span style=\"color: #008080; text-decoration-color: #008080; font-weight: bold\">150</span> unique values\n",
       "</pre>\n"
      ],
      "text/plain": [
       "Application Deadline: \u001b[1;36m150\u001b[0m unique values\n"
      ]
     },
     "metadata": {},
     "output_type": "display_data"
    },
    {
     "data": {
      "text/html": [
       "<pre style=\"white-space:pre;overflow-x:auto;line-height:normal;font-family:Menlo,'DejaVu Sans Mono',consolas,'Courier New',monospace\">\n",
       "Selected for one-hot encoding: <span style=\"font-weight: bold\">[</span><span style=\"color: #008000; text-decoration-color: #008000\">'Program Type'</span><span style=\"font-weight: bold\">]</span>\n",
       "</pre>\n"
      ],
      "text/plain": [
       "\n",
       "Selected for one-hot encoding: \u001b[1m[\u001b[0m\u001b[32m'Program Type'\u001b[0m\u001b[1m]\u001b[0m\n"
      ]
     },
     "metadata": {},
     "output_type": "display_data"
    },
    {
     "data": {
      "text/html": [
       "<pre style=\"white-space:pre;overflow-x:auto;line-height:normal;font-family:Menlo,'DejaVu Sans Mono',consolas,'Courier New',monospace\">One-hot encoding: Program Type\n",
       "</pre>\n"
      ],
      "text/plain": [
       "One-hot encoding: Program Type\n"
      ]
     },
     "metadata": {},
     "output_type": "display_data"
    },
    {
     "data": {
      "text/html": [
       "<pre style=\"white-space:pre;overflow-x:auto;line-height:normal;font-family:Menlo,'DejaVu Sans Mono',consolas,'Courier New',monospace\">Added <span style=\"color: #008080; text-decoration-color: #008080; font-weight: bold\">4</span> dummy columns for Program Type\n",
       "</pre>\n"
      ],
      "text/plain": [
       "Added \u001b[1;36m4\u001b[0m dummy columns for Program Type\n"
      ]
     },
     "metadata": {},
     "output_type": "display_data"
    },
    {
     "data": {
      "text/html": [
       "<pre style=\"white-space:pre;overflow-x:auto;line-height:normal;font-family:Menlo,'DejaVu Sans Mono',consolas,'Courier New',monospace\">Label encoded: Location\n",
       "</pre>\n"
      ],
      "text/plain": [
       "Label encoded: Location\n"
      ]
     },
     "metadata": {},
     "output_type": "display_data"
    },
    {
     "data": {
      "text/html": [
       "<pre style=\"white-space:pre;overflow-x:auto;line-height:normal;font-family:Menlo,'DejaVu Sans Mono',consolas,'Courier New',monospace\">Label encoded: GRE Score\n",
       "</pre>\n"
      ],
      "text/plain": [
       "Label encoded: GRE Score\n"
      ]
     },
     "metadata": {},
     "output_type": "display_data"
    },
    {
     "data": {
      "text/html": [
       "<pre style=\"white-space:pre;overflow-x:auto;line-height:normal;font-family:Menlo,'DejaVu Sans Mono',consolas,'Courier New',monospace\">Label encoded: Phone\n",
       "</pre>\n"
      ],
      "text/plain": [
       "Label encoded: Phone\n"
      ]
     },
     "metadata": {},
     "output_type": "display_data"
    },
    {
     "data": {
      "text/html": [
       "<pre style=\"white-space:pre;overflow-x:auto;line-height:normal;font-family:Menlo,'DejaVu Sans Mono',consolas,'Courier New',monospace\">Label encoded: Date of Birth\n",
       "</pre>\n"
      ],
      "text/plain": [
       "Label encoded: Date of Birth\n"
      ]
     },
     "metadata": {},
     "output_type": "display_data"
    },
    {
     "data": {
      "text/html": [
       "<pre style=\"white-space:pre;overflow-x:auto;line-height:normal;font-family:Menlo,'DejaVu Sans Mono',consolas,'Courier New',monospace\">Label encoded: Funding Source\n",
       "</pre>\n"
      ],
      "text/plain": [
       "Label encoded: Funding Source\n"
      ]
     },
     "metadata": {},
     "output_type": "display_data"
    },
    {
     "data": {
      "text/html": [
       "<pre style=\"white-space:pre;overflow-x:auto;line-height:normal;font-family:Menlo,'DejaVu Sans Mono',consolas,'Courier New',monospace\">Label encoded: Program Name\n",
       "</pre>\n"
      ],
      "text/plain": [
       "Label encoded: Program Name\n"
      ]
     },
     "metadata": {},
     "output_type": "display_data"
    },
    {
     "data": {
      "text/html": [
       "<pre style=\"white-space:pre;overflow-x:auto;line-height:normal;font-family:Menlo,'DejaVu Sans Mono',consolas,'Courier New',monospace\">Label encoded: Application Deadline\n",
       "</pre>\n"
      ],
      "text/plain": [
       "Label encoded: Application Deadline\n"
      ]
     },
     "metadata": {},
     "output_type": "display_data"
    },
    {
     "data": {
      "text/html": [
       "<pre style=\"white-space:pre;overflow-x:auto;line-height:normal;font-family:Menlo,'DejaVu Sans Mono',consolas,'Courier New',monospace\">\n",
       "Preprocessed dataset <span style=\"font-weight: bold\">(</span>first <span style=\"color: #008080; text-decoration-color: #008080; font-weight: bold\">5</span> rows<span style=\"font-weight: bold\">)</span>:\n",
       "</pre>\n"
      ],
      "text/plain": [
       "\n",
       "Preprocessed dataset \u001b[1m(\u001b[0mfirst \u001b[1;36m5\u001b[0m rows\u001b[1m)\u001b[0m:\n"
      ]
     },
     "metadata": {},
     "output_type": "display_data"
    },
    {
     "data": {
      "text/html": [
       "<div>\n",
       "<style scoped>\n",
       "    .dataframe tbody tr th:only-of-type {\n",
       "        vertical-align: middle;\n",
       "    }\n",
       "\n",
       "    .dataframe tbody tr th {\n",
       "        vertical-align: top;\n",
       "    }\n",
       "\n",
       "    .dataframe thead th {\n",
       "        text-align: right;\n",
       "    }\n",
       "</style>\n",
       "<table border=\"1\" class=\"dataframe\">\n",
       "  <thead>\n",
       "    <tr style=\"text-align: right;\">\n",
       "      <th></th>\n",
       "      <th>University ID</th>\n",
       "      <th>University Name</th>\n",
       "      <th>Location</th>\n",
       "      <th>GRE Score</th>\n",
       "      <th>TOEFL Score</th>\n",
       "      <th>GPA</th>\n",
       "      <th>Ranking</th>\n",
       "      <th>Placement Rate (%)</th>\n",
       "      <th>Tuition Fee (USD/year)</th>\n",
       "      <th>Average Pay (USD/year)</th>\n",
       "      <th>...</th>\n",
       "      <th>Program Type_MS</th>\n",
       "      <th>Program Type_PhD</th>\n",
       "      <th>Program Type_Undergraduate</th>\n",
       "      <th>Location_encoded</th>\n",
       "      <th>GRE Score_encoded</th>\n",
       "      <th>Phone_encoded</th>\n",
       "      <th>Date of Birth_encoded</th>\n",
       "      <th>Funding Source_encoded</th>\n",
       "      <th>Program Name_encoded</th>\n",
       "      <th>Application Deadline_encoded</th>\n",
       "    </tr>\n",
       "  </thead>\n",
       "  <tbody>\n",
       "    <tr>\n",
       "      <th>0</th>\n",
       "      <td>1</td>\n",
       "      <td>University of California, Berkeley - Undergrad...</td>\n",
       "      <td>Nebraska</td>\n",
       "      <td>0.4750</td>\n",
       "      <td>0.917355</td>\n",
       "      <td>0.360</td>\n",
       "      <td>0.960930</td>\n",
       "      <td>0.96550</td>\n",
       "      <td>0.707667</td>\n",
       "      <td>0.849236</td>\n",
       "      <td>...</td>\n",
       "      <td>False</td>\n",
       "      <td>False</td>\n",
       "      <td>True</td>\n",
       "      <td>17</td>\n",
       "      <td>38</td>\n",
       "      <td>448</td>\n",
       "      <td>252</td>\n",
       "      <td>24803</td>\n",
       "      <td>36</td>\n",
       "      <td>140</td>\n",
       "    </tr>\n",
       "    <tr>\n",
       "      <th>1</th>\n",
       "      <td>2</td>\n",
       "      <td>Princeton University - Diploma School</td>\n",
       "      <td>Maryland</td>\n",
       "      <td>0.8500</td>\n",
       "      <td>0.983471</td>\n",
       "      <td>0.900</td>\n",
       "      <td>0.242458</td>\n",
       "      <td>0.13975</td>\n",
       "      <td>0.437787</td>\n",
       "      <td>0.165724</td>\n",
       "      <td>...</td>\n",
       "      <td>False</td>\n",
       "      <td>False</td>\n",
       "      <td>False</td>\n",
       "      <td>11</td>\n",
       "      <td>68</td>\n",
       "      <td>55400</td>\n",
       "      <td>5434</td>\n",
       "      <td>43248</td>\n",
       "      <td>326</td>\n",
       "      <td>81</td>\n",
       "    </tr>\n",
       "    <tr>\n",
       "      <th>2</th>\n",
       "      <td>3</td>\n",
       "      <td>Yale University - MBA School</td>\n",
       "      <td>Oklahoma</td>\n",
       "      <td>0.8875</td>\n",
       "      <td>0.719008</td>\n",
       "      <td>0.355</td>\n",
       "      <td>0.047644</td>\n",
       "      <td>0.89875</td>\n",
       "      <td>0.825120</td>\n",
       "      <td>0.577069</td>\n",
       "      <td>...</td>\n",
       "      <td>False</td>\n",
       "      <td>False</td>\n",
       "      <td>False</td>\n",
       "      <td>25</td>\n",
       "      <td>71</td>\n",
       "      <td>13199</td>\n",
       "      <td>4154</td>\n",
       "      <td>17388</td>\n",
       "      <td>390</td>\n",
       "      <td>4</td>\n",
       "    </tr>\n",
       "    <tr>\n",
       "      <th>3</th>\n",
       "      <td>4</td>\n",
       "      <td>Columbia University - Diploma School</td>\n",
       "      <td>Oklahoma</td>\n",
       "      <td>0.7000</td>\n",
       "      <td>0.942149</td>\n",
       "      <td>0.260</td>\n",
       "      <td>0.349261</td>\n",
       "      <td>0.20450</td>\n",
       "      <td>0.833627</td>\n",
       "      <td>0.965619</td>\n",
       "      <td>...</td>\n",
       "      <td>False</td>\n",
       "      <td>False</td>\n",
       "      <td>False</td>\n",
       "      <td>25</td>\n",
       "      <td>56</td>\n",
       "      <td>34414</td>\n",
       "      <td>2856</td>\n",
       "      <td>13672</td>\n",
       "      <td>149</td>\n",
       "      <td>141</td>\n",
       "    </tr>\n",
       "    <tr>\n",
       "      <th>4</th>\n",
       "      <td>5</td>\n",
       "      <td>California Institute of Technology - MBA School</td>\n",
       "      <td>North Carolina</td>\n",
       "      <td>0.5250</td>\n",
       "      <td>0.793388</td>\n",
       "      <td>0.730</td>\n",
       "      <td>0.859513</td>\n",
       "      <td>0.84000</td>\n",
       "      <td>0.862587</td>\n",
       "      <td>0.001987</td>\n",
       "      <td>...</td>\n",
       "      <td>False</td>\n",
       "      <td>False</td>\n",
       "      <td>False</td>\n",
       "      <td>22</td>\n",
       "      <td>42</td>\n",
       "      <td>27573</td>\n",
       "      <td>4386</td>\n",
       "      <td>17160</td>\n",
       "      <td>522</td>\n",
       "      <td>42</td>\n",
       "    </tr>\n",
       "  </tbody>\n",
       "</table>\n",
       "<p>5 rows × 32 columns</p>\n",
       "</div>"
      ],
      "text/plain": [
       "   University ID                                    University Name  \\\n",
       "0              1  University of California, Berkeley - Undergrad...   \n",
       "1              2              Princeton University - Diploma School   \n",
       "2              3                       Yale University - MBA School   \n",
       "3              4               Columbia University - Diploma School   \n",
       "4              5    California Institute of Technology - MBA School   \n",
       "\n",
       "         Location  GRE Score  TOEFL Score    GPA   Ranking  \\\n",
       "0        Nebraska     0.4750     0.917355  0.360  0.960930   \n",
       "1        Maryland     0.8500     0.983471  0.900  0.242458   \n",
       "2        Oklahoma     0.8875     0.719008  0.355  0.047644   \n",
       "3        Oklahoma     0.7000     0.942149  0.260  0.349261   \n",
       "4  North Carolina     0.5250     0.793388  0.730  0.859513   \n",
       "\n",
       "   Placement Rate (%)  Tuition Fee (USD/year)  Average Pay (USD/year)  ...  \\\n",
       "0             0.96550                0.707667                0.849236  ...   \n",
       "1             0.13975                0.437787                0.165724  ...   \n",
       "2             0.89875                0.825120                0.577069  ...   \n",
       "3             0.20450                0.833627                0.965619  ...   \n",
       "4             0.84000                0.862587                0.001987  ...   \n",
       "\n",
       "  Program Type_MS Program Type_PhD Program Type_Undergraduate  \\\n",
       "0           False            False                       True   \n",
       "1           False            False                      False   \n",
       "2           False            False                      False   \n",
       "3           False            False                      False   \n",
       "4           False            False                      False   \n",
       "\n",
       "  Location_encoded GRE Score_encoded Phone_encoded  Date of Birth_encoded  \\\n",
       "0               17                38           448                    252   \n",
       "1               11                68         55400                   5434   \n",
       "2               25                71         13199                   4154   \n",
       "3               25                56         34414                   2856   \n",
       "4               22                42         27573                   4386   \n",
       "\n",
       "   Funding Source_encoded Program Name_encoded  Application Deadline_encoded  \n",
       "0                   24803                   36                           140  \n",
       "1                   43248                  326                            81  \n",
       "2                   17388                  390                             4  \n",
       "3                   13672                  149                           141  \n",
       "4                   17160                  522                            42  \n",
       "\n",
       "[5 rows x 32 columns]"
      ]
     },
     "metadata": {},
     "output_type": "display_data"
    }
   ],
   "source": [
    "# 2.4 Encode categorical variables (memory-efficient approach)\n",
    "print(\"\\nEncoding categorical variables (memory-efficient approach)...\")\n",
    "\n",
    "# Instead of one-hot encoding all categorical variables which can cause memory issues,\n",
    "# let's use label encoding for high-cardinality columns and be selective about one-hot encoding\n",
    "\n",
    "# Choose specific columns for one-hot encoding (with fewer unique values)\n",
    "# Count unique values in each categorical column\n",
    "print(\"\\nUnique values in categorical columns:\")\n",
    "for col in categorical_cols:\n",
    "    unique_count = df[col].nunique()\n",
    "    print(f\"{col}: {unique_count} unique values\")\n",
    "\n",
    "# Choose only categorical columns with fewer unique values for one-hot encoding\n",
    "categorical_cols_to_encode = []\n",
    "for col in categorical_cols:\n",
    "    if df[col].nunique() < 10 and col in ['Program Type', 'Location']:  # Limit to columns with <10 unique values\n",
    "        categorical_cols_to_encode.append(col)\n",
    "\n",
    "print(f\"\\nSelected for one-hot encoding: {categorical_cols_to_encode}\")\n",
    "\n",
    "# Process one column at a time to avoid memory issues\n",
    "for col in categorical_cols_to_encode:\n",
    "    print(f\"One-hot encoding: {col}\")\n",
    "    dummies = pd.get_dummies(df[col], prefix=col, drop_first=True)\n",
    "    \n",
    "    # Add the dummy columns to the dataframe\n",
    "    df = pd.concat([df, dummies], axis=1)\n",
    "    \n",
    "    # Drop the original column\n",
    "    df = df.drop(col, axis=1)\n",
    "    \n",
    "    print(f\"Added {dummies.shape[1]} dummy columns for {col}\")\n",
    "\n",
    "# For remaining categorical columns, use label encoding\n",
    "from sklearn.preprocessing import LabelEncoder\n",
    "\n",
    "# Identify remaining categorical columns\n",
    "remaining_cat_cols = [col for col in categorical_cols if col not in categorical_cols_to_encode]\n",
    "label_encoders = {}\n",
    "\n",
    "for col in remaining_cat_cols:\n",
    "    if col in ['University Name', 'Student First Name', 'Student Last Name', 'Student Email']:\n",
    "        # Skip encoding identifier columns\n",
    "        continue\n",
    "        \n",
    "    le = LabelEncoder()\n",
    "    df[f'{col}_encoded'] = le.fit_transform(df[col].astype(str))\n",
    "    label_encoders[col] = le\n",
    "    print(f\"Label encoded: {col}\")\n",
    "\n",
    "# Display the first few rows of the preprocessed dataset\n",
    "print(\"\\nPreprocessed dataset (first 5 rows):\")\n",
    "display(df.head(5))"
   ]
  },
  {
   "cell_type": "code",
   "execution_count": 46,
   "id": "3bb0bd24-d2b3-4af4-a0d7-aa87bdc38977",
   "metadata": {},
   "outputs": [
    {
     "data": {
      "text/html": [
       "<pre style=\"white-space:pre;overflow-x:auto;line-height:normal;font-family:Menlo,'DejaVu Sans Mono',consolas,'Courier New',monospace\">\n",
       "Preprocessed dataset saved to: C:\\Users\\masood\\Downloads\\Machine Learning Project\\preprocessed_dataset.csv\n",
       "</pre>\n"
      ],
      "text/plain": [
       "\n",
       "Preprocessed dataset saved to: C:\\Users\\masood\\Downloads\\Machine Learning Project\\preprocessed_dataset.csv\n"
      ]
     },
     "metadata": {},
     "output_type": "display_data"
    }
   ],
   "source": [
    "# Save the preprocessed dataset\n",
    "preprocessed_path = r\"C:\\Users\\masood\\Downloads\\Machine Learning Project\\preprocessed_dataset.csv\"\n",
    "df.to_csv(preprocessed_path, index=False)\n",
    "print(f\"\\nPreprocessed dataset saved to: {preprocessed_path}\")"
   ]
  },
  {
   "cell_type": "code",
   "execution_count": null,
   "id": "edad8557-7231-40cd-afff-fab4a53c67e0",
   "metadata": {},
   "outputs": [],
   "source": []
  }
 ],
 "metadata": {
  "kernelspec": {
   "display_name": "base",
   "language": "python",
   "name": "python3"
  },
  "language_info": {
   "codemirror_mode": {
    "name": "ipython",
    "version": 3
   },
   "file_extension": ".py",
   "mimetype": "text/x-python",
   "name": "python",
   "nbconvert_exporter": "python",
   "pygments_lexer": "ipython3",
   "version": "3.12.7"
  }
 },
 "nbformat": 4,
 "nbformat_minor": 5
}
