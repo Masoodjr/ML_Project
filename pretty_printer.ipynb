{
 "cells": [
  {
   "cell_type": "code",
   "execution_count": 5,
   "id": "c405dc52",
   "metadata": {},
   "outputs": [
    {
     "data": {
      "text/html": [
       "<pre style=\"white-space:pre;overflow-x:auto;line-height:normal;font-family:Menlo,'DejaVu Sans Mono',consolas,'Courier New',monospace\"><span style=\"color: #00ff00; text-decoration-color: #00ff00\">───────────────────────────────────────────────── </span><span style=\"color: #ffffff; text-decoration-color: #ffffff; font-weight: bold\"> Employee Data </span><span style=\"color: #00ff00; text-decoration-color: #00ff00\"> ─────────────────────────────────────────────────</span>\n",
       "</pre>\n"
      ],
      "text/plain": [
       "\u001b[92m───────────────────────────────────────────────── \u001b[0m\u001b[1;97m Employee Data \u001b[0m\u001b[92m ─────────────────────────────────────────────────\u001b[0m\n"
      ]
     },
     "metadata": {},
     "output_type": "display_data"
    },
    {
     "data": {
      "text/html": [
       "<pre style=\"white-space:pre;overflow-x:auto;line-height:normal;font-family:Menlo,'DejaVu Sans Mono',consolas,'Courier New',monospace\">                                   <span style=\"color: #ffffff; text-decoration-color: #ffffff; background-color: #000087; font-weight: bold\">                                            </span>                                    \n",
       "                                   <span style=\"color: #ffffff; text-decoration-color: #ffffff; background-color: #000087; font-weight: bold\">             EMPLOYEE DIRECTORY             </span>                                    \n",
       "                                   <span style=\"color: #ffffff; text-decoration-color: #ffffff\">┏━━━━━━━━━┳━━━━━┳━━━━━━━━━━━━━┳━━━━━━━━━━━━┓</span>                                    \n",
       "                                   <span style=\"color: #ffffff; text-decoration-color: #ffffff\">┃</span><span style=\"color: #00ffff; text-decoration-color: #00ffff; font-weight: bold\">  Name   </span><span style=\"color: #ffffff; text-decoration-color: #ffffff\">┃</span><span style=\"color: #00ffff; text-decoration-color: #00ffff; font-weight: bold\"> Age </span><span style=\"color: #ffffff; text-decoration-color: #ffffff\">┃</span><span style=\"color: #00ffff; text-decoration-color: #00ffff; font-weight: bold\">    City     </span><span style=\"color: #ffffff; text-decoration-color: #ffffff\">┃</span><span style=\"color: #00ffff; text-decoration-color: #00ffff; font-weight: bold\"> Occupation </span><span style=\"color: #ffffff; text-decoration-color: #ffffff\">┃</span>                                    \n",
       "                                   <span style=\"color: #ffffff; text-decoration-color: #ffffff\">┡━━━━━━━━━╇━━━━━╇━━━━━━━━━━━━━╇━━━━━━━━━━━━┩</span>                                    \n",
       "                                   <span style=\"color: #ffffff; text-decoration-color: #ffffff\">│</span><span style=\"color: #00ff00; text-decoration-color: #00ff00\">  Alice  </span><span style=\"color: #ffffff; text-decoration-color: #ffffff\">│</span><span style=\"color: #00ff00; text-decoration-color: #00ff00\"> </span><span style=\"color: #008080; text-decoration-color: #008080; font-weight: bold\">25</span><span style=\"color: #00ff00; text-decoration-color: #00ff00\">  </span><span style=\"color: #ffffff; text-decoration-color: #ffffff\">│</span><span style=\"color: #00ff00; text-decoration-color: #00ff00\">  New York   </span><span style=\"color: #ffffff; text-decoration-color: #ffffff\">│</span><span style=\"color: #00ff00; text-decoration-color: #00ff00\">  Engineer  </span><span style=\"color: #ffffff; text-decoration-color: #ffffff\">│</span>                                    \n",
       "                                   <span style=\"color: #ffffff; text-decoration-color: #ffffff\">│</span><span style=\"color: #ffff7f; text-decoration-color: #ffff7f\">   Bob   </span><span style=\"color: #ffffff; text-decoration-color: #ffffff\">│</span><span style=\"color: #ffff7f; text-decoration-color: #ffff7f\"> </span><span style=\"color: #7fbfbf; text-decoration-color: #7fbfbf; font-weight: bold\">30</span><span style=\"color: #ffff7f; text-decoration-color: #ffff7f\">  </span><span style=\"color: #ffffff; text-decoration-color: #ffffff\">│</span><span style=\"color: #ffff7f; text-decoration-color: #ffff7f\"> Los Angeles </span><span style=\"color: #ffffff; text-decoration-color: #ffffff\">│</span><span style=\"color: #ffff7f; text-decoration-color: #ffff7f\">  Designer  </span><span style=\"color: #ffffff; text-decoration-color: #ffffff\">│</span>                                    \n",
       "                                   <span style=\"color: #ffffff; text-decoration-color: #ffffff\">│</span><span style=\"color: #00ff00; text-decoration-color: #00ff00\"> Charlie </span><span style=\"color: #ffffff; text-decoration-color: #ffffff\">│</span><span style=\"color: #00ff00; text-decoration-color: #00ff00\"> </span><span style=\"color: #008080; text-decoration-color: #008080; font-weight: bold\">35</span><span style=\"color: #00ff00; text-decoration-color: #00ff00\">  </span><span style=\"color: #ffffff; text-decoration-color: #ffffff\">│</span><span style=\"color: #00ff00; text-decoration-color: #00ff00\">   Chicago   </span><span style=\"color: #ffffff; text-decoration-color: #ffffff\">│</span><span style=\"color: #00ff00; text-decoration-color: #00ff00\">  Teacher   </span><span style=\"color: #ffffff; text-decoration-color: #ffffff\">│</span>                                    \n",
       "                                   <span style=\"color: #ffffff; text-decoration-color: #ffffff\">│</span><span style=\"color: #ffff7f; text-decoration-color: #ffff7f\">  Diana  </span><span style=\"color: #ffffff; text-decoration-color: #ffffff\">│</span><span style=\"color: #ffff7f; text-decoration-color: #ffff7f\"> </span><span style=\"color: #7fbfbf; text-decoration-color: #7fbfbf; font-weight: bold\">28</span><span style=\"color: #ffff7f; text-decoration-color: #ffff7f\">  </span><span style=\"color: #ffffff; text-decoration-color: #ffffff\">│</span><span style=\"color: #ffff7f; text-decoration-color: #ffff7f\">    Miami    </span><span style=\"color: #ffffff; text-decoration-color: #ffffff\">│</span><span style=\"color: #ffff7f; text-decoration-color: #ffff7f\">   Doctor   </span><span style=\"color: #ffffff; text-decoration-color: #ffffff\">│</span>                                    \n",
       "                                   <span style=\"color: #ffffff; text-decoration-color: #ffffff\">└─────────┴─────┴─────────────┴────────────┘</span>                                    \n",
       "                                   <span style=\"color: #7f7f7f; text-decoration-color: #7f7f7f; font-style: italic\">            Updated: April 2023             </span>                                    \n",
       "</pre>\n"
      ],
      "text/plain": [
       "                                   \u001b[1;97;48;5;18m                                            \u001b[0m                                    \n",
       "                                   \u001b[1;97;48;5;18m             EMPLOYEE DIRECTORY             \u001b[0m                                    \n",
       "                                   \u001b[97m┏━━━━━━━━━┳━━━━━┳━━━━━━━━━━━━━┳━━━━━━━━━━━━┓\u001b[0m                                    \n",
       "                                   \u001b[97m┃\u001b[0m\u001b[1;96m \u001b[0m\u001b[1;96m Name  \u001b[0m\u001b[1;96m \u001b[0m\u001b[97m┃\u001b[0m\u001b[1;96m \u001b[0m\u001b[1;96mAge\u001b[0m\u001b[1;96m \u001b[0m\u001b[97m┃\u001b[0m\u001b[1;96m \u001b[0m\u001b[1;96m   City    \u001b[0m\u001b[1;96m \u001b[0m\u001b[97m┃\u001b[0m\u001b[1;96m \u001b[0m\u001b[1;96mOccupation\u001b[0m\u001b[1;96m \u001b[0m\u001b[97m┃\u001b[0m                                    \n",
       "                                   \u001b[97m┡━━━━━━━━━╇━━━━━╇━━━━━━━━━━━━━╇━━━━━━━━━━━━┩\u001b[0m                                    \n",
       "                                   \u001b[97m│\u001b[0m\u001b[92m \u001b[0m\u001b[92m Alice \u001b[0m\u001b[92m \u001b[0m\u001b[97m│\u001b[0m\u001b[92m \u001b[0m\u001b[1;36m25\u001b[0m\u001b[92m \u001b[0m\u001b[92m \u001b[0m\u001b[97m│\u001b[0m\u001b[92m \u001b[0m\u001b[92m New York  \u001b[0m\u001b[92m \u001b[0m\u001b[97m│\u001b[0m\u001b[92m \u001b[0m\u001b[92m Engineer \u001b[0m\u001b[92m \u001b[0m\u001b[97m│\u001b[0m                                    \n",
       "                                   \u001b[97m│\u001b[0m\u001b[2;93m \u001b[0m\u001b[2;93m  Bob  \u001b[0m\u001b[2;93m \u001b[0m\u001b[97m│\u001b[0m\u001b[2;93m \u001b[0m\u001b[1;2;36m30\u001b[0m\u001b[2;93m \u001b[0m\u001b[2;93m \u001b[0m\u001b[97m│\u001b[0m\u001b[2;93m \u001b[0m\u001b[2;93mLos Angeles\u001b[0m\u001b[2;93m \u001b[0m\u001b[97m│\u001b[0m\u001b[2;93m \u001b[0m\u001b[2;93m Designer \u001b[0m\u001b[2;93m \u001b[0m\u001b[97m│\u001b[0m                                    \n",
       "                                   \u001b[97m│\u001b[0m\u001b[92m \u001b[0m\u001b[92mCharlie\u001b[0m\u001b[92m \u001b[0m\u001b[97m│\u001b[0m\u001b[92m \u001b[0m\u001b[1;36m35\u001b[0m\u001b[92m \u001b[0m\u001b[92m \u001b[0m\u001b[97m│\u001b[0m\u001b[92m \u001b[0m\u001b[92m  Chicago  \u001b[0m\u001b[92m \u001b[0m\u001b[97m│\u001b[0m\u001b[92m \u001b[0m\u001b[92m Teacher  \u001b[0m\u001b[92m \u001b[0m\u001b[97m│\u001b[0m                                    \n",
       "                                   \u001b[97m│\u001b[0m\u001b[2;93m \u001b[0m\u001b[2;93m Diana \u001b[0m\u001b[2;93m \u001b[0m\u001b[97m│\u001b[0m\u001b[2;93m \u001b[0m\u001b[1;2;36m28\u001b[0m\u001b[2;93m \u001b[0m\u001b[2;93m \u001b[0m\u001b[97m│\u001b[0m\u001b[2;93m \u001b[0m\u001b[2;93m   Miami   \u001b[0m\u001b[2;93m \u001b[0m\u001b[97m│\u001b[0m\u001b[2;93m \u001b[0m\u001b[2;93m  Doctor  \u001b[0m\u001b[2;93m \u001b[0m\u001b[97m│\u001b[0m                                    \n",
       "                                   \u001b[97m└─────────┴─────┴─────────────┴────────────┘\u001b[0m                                    \n",
       "                                   \u001b[2;3m            Updated: April 2023             \u001b[0m                                    \n"
      ]
     },
     "metadata": {},
     "output_type": "display_data"
    },
    {
     "data": {
      "text/html": [
       "<pre style=\"white-space:pre;overflow-x:auto;line-height:normal;font-family:Menlo,'DejaVu Sans Mono',consolas,'Courier New',monospace\"><span style=\"color: #ffffff; text-decoration-color: #ffffff\">───────────────────────────────────────────────────────────────────────────────────────────────────────────────────</span>\n",
       "</pre>\n"
      ],
      "text/plain": [
       "\u001b[97m───────────────────────────────────────────────────────────────────────────────────────────────────────────────────\u001b[0m\n"
      ]
     },
     "metadata": {},
     "output_type": "display_data"
    }
   ],
   "source": [
    "from rich.console import Console\n",
    "from rich.table import Table\n",
    "from rich.style import Style\n",
    "import pandas as pd\n",
    "\n",
    "# Sample data\n",
    "df = pd.DataFrame({\n",
    "    \"Name\": [\"Alice\", \"Bob\", \"Charlie\", \"Diana\"],\n",
    "    \"Age\": [25, 30, 35, 28],\n",
    "    \"City\": [\"New York\", \"Los Angeles\", \"Chicago\", \"Miami\"],\n",
    "    \"Occupation\": [\"Engineer\", \"Designer\", \"Teacher\", \"Doctor\"]\n",
    "})\n",
    "\n",
    "# Create console instance\n",
    "console = Console()\n",
    "\n",
    "# Create table with enhanced styling\n",
    "table = Table(\n",
    "    title=\"\\nEMPLOYEE DIRECTORY\",\n",
    "    show_header=True,\n",
    "    header_style=\"bold bright_cyan\",\n",
    "    title_style=\"bold bright_white on dark_blue\",\n",
    "    border_style=\"bright_white\",\n",
    "    style=\"bright_white\",\n",
    "    row_styles=[\"none\", \"dim\"],\n",
    "    highlight=True,\n",
    "    caption=\"Updated: April 2023\"\n",
    ")\n",
    "\n",
    "# Add columns with custom styling\n",
    "for column in df.columns:\n",
    "    table.add_column(\n",
    "        column, \n",
    "        header_style=Style(color=\"bright_cyan\", bold=True),\n",
    "        style=Style(color=\"bright_white\"),\n",
    "        justify=\"center\"\n",
    "    )\n",
    "\n",
    "# Add rows with alternating colors\n",
    "for i, row in df.iterrows():\n",
    "    row_style = \"bright_green\" if i % 2 == 0 else \"bright_yellow\"\n",
    "    table.add_row(*map(str, row), style=row_style)\n",
    "\n",
    "# Print the table with a border\n",
    "console.rule(\"[bold bright_white] Employee Data \")\n",
    "console.print(table, justify=\"center\")\n",
    "console.rule(style=\"bright_white\")"
   ]
  },
  {
   "cell_type": "code",
   "execution_count": null,
   "id": "c48e0333",
   "metadata": {},
   "outputs": [],
   "source": []
  }
 ],
 "metadata": {
  "kernelspec": {
   "display_name": "base",
   "language": "python",
   "name": "python3"
  },
  "language_info": {
   "codemirror_mode": {
    "name": "ipython",
    "version": 3
   },
   "file_extension": ".py",
   "mimetype": "text/x-python",
   "name": "python",
   "nbconvert_exporter": "python",
   "pygments_lexer": "ipython3",
   "version": "3.12.7"
  }
 },
 "nbformat": 4,
 "nbformat_minor": 5
}
